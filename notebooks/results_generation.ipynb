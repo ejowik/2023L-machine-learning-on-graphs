{
 "cells": [
  {
   "cell_type": "code",
   "execution_count": null,
   "metadata": {},
   "outputs": [],
   "source": [
    "%load_ext autoreload\n",
    "%autoreload 2\n",
    "import sys\n",
    "\n",
    "sys.path.append(\"../\")\n",
    "from src.utils import *\n",
    "from src.graph2vec import ExtendedGraph2Vec, Ensemble_G2V\n",
    "from sklearn.model_selection import LeaveOneOut\n",
    "import pandas as pd"
   ]
  },
  {
   "cell_type": "code",
   "execution_count": null,
   "metadata": {},
   "outputs": [],
   "source": [
    "def which_to_generate(num: int):\n",
    "    path = (\n",
    "        \"../datasets/github_stargazers/\"\n",
    "        if num == 0\n",
    "        else \"../datasets/regular_graphs/\"\n",
    "        if num == 1\n",
    "        else \"../datasets/partition_graphs/\"\n",
    "    )\n",
    "    graphs, labels = (\n",
    "        read_stargazers_dataset(\"../datasets/github_stargazers\")\n",
    "        if num == 0\n",
    "        else load_artificial(path)\n",
    "    )\n",
    "    order_dict = np.load(f\"{path}orderings.npy\", allow_pickle=True)[()]\n",
    "    return graphs, labels, order_dict, path"
   ]
  },
  {
   "cell_type": "code",
   "execution_count": null,
   "metadata": {},
   "outputs": [],
   "source": [
    "DATASET_NUMBER = 2"
   ]
  },
  {
   "cell_type": "code",
   "execution_count": null,
   "metadata": {},
   "outputs": [],
   "source": [
    "# cv_fold = 64\n",
    "\n",
    "graphs, labels, order_dict, path_to_save = which_to_generate(DATASET_NUMBER)\n",
    "\n",
    "cv_fold = 10\n",
    "single_emb_size = 128 if DATASET_NUMBER == 0 else 2 if DATASET_NUMBER == 1 else 15\n",
    "\n",
    "\n",
    "tested_range = np.linspace(0, 1, 5)\n",
    "\n",
    "WEIGHTING_FUNCTIONS = (\n",
    "    {f\"w_mean_{a:.2f}\": (\"w_mean\", [a]) for a in tested_range}\n",
    "    | {f\"concat\": (\"concatenate\", [])}\n",
    "    | {f\"p_proj_{a}\": (\"partial_projection\", [0, a]) for a in (True, False)}\n",
    "    | {f\"w_proj_{a:.2f}\": (\"w_projection\", [a]) for a in tested_range}\n",
    ")\n",
    "\n",
    "ens_model = Ensemble_G2V(\n",
    "    ExtendedGraph2Vec(dimensions=single_emb_size),\n",
    "    ExtendedGraph2Vec(use_pv_dm=True, dimensions=single_emb_size),\n",
    ")"
   ]
  },
  {
   "cell_type": "code",
   "execution_count": null,
   "metadata": {},
   "outputs": [],
   "source": [
    "res = []\n",
    "for measure, order in tqdm(order_dict.items()):\n",
    "    for name, (func, args) in tqdm(WEIGHTING_FUNCTIONS.items(), leave=False):\n",
    "        ens_model.set_weighting_function(func, *args)\n",
    "        res.append(\n",
    "            cross_validate_graphs(\n",
    "                graphs=graphs,\n",
    "                ordering=order,\n",
    "                labels=labels,\n",
    "                n_splits=cv_fold,\n",
    "                embedder=ens_model,\n",
    "                cls=LogisticRegression(max_iter=1000),\n",
    "                method=f\"{measure}_{name}\",\n",
    "            )\n",
    "        )"
   ]
  },
  {
   "cell_type": "code",
   "execution_count": null,
   "metadata": {},
   "outputs": [],
   "source": [
    "pd.concat(res, ignore_index=True).to_csv(f\"{path_to_save}results2.csv\")\n",
    "pd.read_csv(f\"{path_to_save}results2.csv\", index_col=0).sample(15)"
   ]
  }
 ],
 "metadata": {
  "kernelspec": {
   "display_name": "MLG",
   "language": "python",
   "name": "python3"
  },
  "language_info": {
   "codemirror_mode": {
    "name": "ipython",
    "version": 3
   },
   "file_extension": ".py",
   "mimetype": "text/x-python",
   "name": "python",
   "nbconvert_exporter": "python",
   "pygments_lexer": "ipython3",
   "version": "3.9.2"
  },
  "orig_nbformat": 4
 },
 "nbformat": 4,
 "nbformat_minor": 2
}
