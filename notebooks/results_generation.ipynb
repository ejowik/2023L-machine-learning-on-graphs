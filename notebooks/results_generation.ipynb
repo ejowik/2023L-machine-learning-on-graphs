{
 "cells": [
  {
   "cell_type": "code",
   "execution_count": 1,
   "metadata": {},
   "outputs": [],
   "source": [
    "%load_ext autoreload\n",
    "%autoreload 2\n",
    "import sys\n",
    "\n",
    "sys.path.append(\"../\")\n",
    "from src.utils import *\n",
    "from src.graph2vec import ExtendedGraph2Vec, Ensemble_G2V\n",
    "from sklearn.model_selection import LeaveOneOut\n",
    "import pandas as pd"
   ]
  },
  {
   "cell_type": "code",
   "execution_count": 2,
   "metadata": {},
   "outputs": [],
   "source": [
    "def which_to_generate(num:int):\n",
    "    path=\"../datasets/github_stargazers/\" if num==0 else \"../datasets/regular_graps/\" if num==1 else \"../datasets/partition_graphs/\"\n",
    "    graphs, labels = read_stargazers_dataset(\"../datasets/github_stargazers\") if num==0 else load_artificial(path)\n",
    "    order_dict = np.load(f\"{path}orderings.npy\", allow_pickle=True)[()]\n",
    "    return graphs,labels,order_dict,path"
   ]
  },
  {
   "cell_type": "code",
   "execution_count": 3,
   "metadata": {},
   "outputs": [],
   "source": [
    "DATASET_NUMBER=2"
   ]
  },
  {
   "cell_type": "code",
   "execution_count": 5,
   "metadata": {},
   "outputs": [
    {
     "data": {
      "application/vnd.jupyter.widget-view+json": {
       "model_id": "b724fd7292b24f8e9336afdd17307d16",
       "version_major": 2,
       "version_minor": 0
      },
      "text/plain": [
       "  0%|          | 0/900 [00:00<?, ?it/s]"
      ]
     },
     "metadata": {},
     "output_type": "display_data"
    }
   ],
   "source": [
    "# cv_fold = 64\n",
    "\n",
    "graphs, labels,order_dict,path_to_save=which_to_generate(DATASET_NUMBER)\n",
    "\n",
    "cv_fold=64 if DATASET_NUMBER==0 else 105 if DATASET_NUMBER==1 else 100\n",
    "single_emb_size=128 if DATASET_NUMBER==0 else 2 if DATASET_NUMBER==1 else 20\n",
    "\n",
    "\n",
    "tested_range = np.linspace(0, 1, 11)\n",
    "\n",
    "WEIGHTING_FUNCTIONS = (\n",
    "    {f\"w_mean_{a:.2f}\": (\"w_mean\", [a]) for a in tested_range}\n",
    "    | {f\"concat\": (\"concatenate\", [])}\n",
    "    | {f\"p_proj_{a}\": (\"partial_projection\", [0, a]) for a in (True, False)}\n",
    "    | {f\"w_proj_{a:.2f}\": (\"w_projection\", [a]) for a in tested_range}\n",
    ")\n",
    "\n",
    "ens_model = Ensemble_G2V(ExtendedGraph2Vec(dimensions=single_emb_size),ExtendedGraph2Vec(use_pv_dm=True,dimensions=single_emb_size))"
   ]
  },
  {
   "cell_type": "code",
   "execution_count": 6,
   "metadata": {},
   "outputs": [
    {
     "data": {
      "application/vnd.jupyter.widget-view+json": {
       "model_id": "3bb818270a0848f3b36939044b1723f4",
       "version_major": 2,
       "version_minor": 0
      },
      "text/plain": [
       "  0%|          | 0/3 [00:00<?, ?it/s]"
      ]
     },
     "metadata": {},
     "output_type": "display_data"
    },
    {
     "data": {
      "application/vnd.jupyter.widget-view+json": {
       "model_id": "fc215419174348188313077e2075714f",
       "version_major": 2,
       "version_minor": 0
      },
      "text/plain": [
       "  0%|          | 0/25 [00:00<?, ?it/s]"
      ]
     },
     "metadata": {},
     "output_type": "display_data"
    },
    {
     "data": {
      "application/vnd.jupyter.widget-view+json": {
       "model_id": "7bafdbab4e6c48629f9f2a9d0dca6fb9",
       "version_major": 2,
       "version_minor": 0
      },
      "text/plain": [
       "  0%|          | 0/100 [00:00<?, ?it/s]"
      ]
     },
     "metadata": {},
     "output_type": "display_data"
    },
    {
     "data": {
      "application/vnd.jupyter.widget-view+json": {
       "model_id": "bbd9f1f7e7714ce3a96a6c59694f3e03",
       "version_major": 2,
       "version_minor": 0
      },
      "text/plain": [
       "  0%|          | 0/100 [00:00<?, ?it/s]"
      ]
     },
     "metadata": {},
     "output_type": "display_data"
    },
    {
     "data": {
      "application/vnd.jupyter.widget-view+json": {
       "model_id": "e34c49e7e2504bfc823ded4ec353368e",
       "version_major": 2,
       "version_minor": 0
      },
      "text/plain": [
       "  0%|          | 0/100 [00:00<?, ?it/s]"
      ]
     },
     "metadata": {},
     "output_type": "display_data"
    },
    {
     "data": {
      "application/vnd.jupyter.widget-view+json": {
       "model_id": "bb32490a472542739b9570d924c33960",
       "version_major": 2,
       "version_minor": 0
      },
      "text/plain": [
       "  0%|          | 0/100 [00:00<?, ?it/s]"
      ]
     },
     "metadata": {},
     "output_type": "display_data"
    },
    {
     "data": {
      "application/vnd.jupyter.widget-view+json": {
       "model_id": "4a066ed4694f4812999005cb0a6c267a",
       "version_major": 2,
       "version_minor": 0
      },
      "text/plain": [
       "  0%|          | 0/100 [00:00<?, ?it/s]"
      ]
     },
     "metadata": {},
     "output_type": "display_data"
    }
   ],
   "source": [
    "res = []\n",
    "for measure, order in tqdm(order_dict.items()):\n",
    "    for name, (func, args) in tqdm(WEIGHTING_FUNCTIONS.items(), leave=False):\n",
    "        ens_model.set_weighting_function(func, *args)\n",
    "        res.append(\n",
    "            cross_validate_graphs(\n",
    "                graphs=graphs,\n",
    "                ordering=order,\n",
    "                labels=labels,\n",
    "                n_splits=cv_fold,\n",
    "                embedder=ens_model,\n",
    "                cls=LogisticRegression(max_iter=1000),\n",
    "                method=f\"{measure}_{name}\",\n",
    "            )\n",
    "        )"
   ]
  },
  {
   "cell_type": "code",
   "execution_count": null,
   "metadata": {},
   "outputs": [],
   "source": [
    "pd.concat(res, ignore_index=True).to_csv(f\"{path_to_save}results2.csv\")\n",
    "pd.read_csv(f\"{path_to_save}results2.csv\").sample(15)"
   ]
  }
 ],
 "metadata": {
  "kernelspec": {
   "display_name": "MLG",
   "language": "python",
   "name": "python3"
  },
  "language_info": {
   "codemirror_mode": {
    "name": "ipython",
    "version": 3
   },
   "file_extension": ".py",
   "mimetype": "text/x-python",
   "name": "python",
   "nbconvert_exporter": "python",
   "pygments_lexer": "ipython3",
   "version": "3.9.2"
  },
  "orig_nbformat": 4
 },
 "nbformat": 4,
 "nbformat_minor": 2
}
