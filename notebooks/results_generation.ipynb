{
 "cells": [
  {
   "cell_type": "code",
   "execution_count": 5,
   "metadata": {},
   "outputs": [
    {
     "name": "stdout",
     "output_type": "stream",
     "text": [
      "The autoreload extension is already loaded. To reload it, use:\n",
      "  %reload_ext autoreload\n"
     ]
    }
   ],
   "source": [
    "%load_ext autoreload\n",
    "%autoreload 2\n",
    "import sys\n",
    "\n",
    "sys.path.append(\"../\")\n",
    "from src.utils import *\n",
    "from src.graph2vec import ExtendedGraph2Vec, Ensemble_G2V\n",
    "from sklearn.model_selection import LeaveOneOut"
   ]
  },
  {
   "cell_type": "code",
   "execution_count": 6,
   "metadata": {},
   "outputs": [
    {
     "data": {
      "application/vnd.jupyter.widget-view+json": {
       "model_id": "aa06c88fff1847aaa970a57529a3f9cc",
       "version_major": 2,
       "version_minor": 0
      },
      "text/plain": [
       "  0%|          | 0/475 [00:00<?, ?it/s]"
      ]
     },
     "metadata": {},
     "output_type": "display_data"
    }
   ],
   "source": [
    "# graphs, labels = read_stargazers_dataset(\"../datasets/github_stargazers\")\n",
    "\n",
    "# order_dict = np.load(\"../datasets/github_stargazers/orderings.npy\", allow_pickle=True)[\n",
    "#     ()\n",
    "# ]\n",
    "\n",
    "# cv_fold = 64\n",
    "\n",
    "# graphs, labels=load_artificial(\"../datasets/partition_graphs/\")\n",
    "# order_dict = np.load(\"../datasets/partition_graphs/orderings.npy\", allow_pickle=True)[()]\n",
    "# single_emb_size=20\n",
    "\n",
    "\n",
    "graphs, labels=load_artificial(\"../datasets/regular_graphs/\")\n",
    "order_dict = np.load(\"../datasets/regular_graphs/orderings.npy\", allow_pickle=True)[()]\n",
    "single_emb_size=2\n",
    "\n",
    "cv_fold=LeaveOneOut()\n",
    "\n",
    "tested_range = np.linspace(0, 1, 11)\n",
    "\n",
    "WEIGHTING_FUNCTIONS = (\n",
    "    {f\"w_mean_{a:.2f}\": (\"w_mean\", [a]) for a in tested_range}\n",
    "    | {f\"concat\": (\"concatenate\", [])}\n",
    "    | {f\"p_proj_{a}\": (\"partial_projection\", [0, a]) for a in (True, False)}\n",
    "    | {f\"w_proj_{a:.2f}\": (\"w_projection\", [a]) for a in tested_range}\n",
    ")\n",
    "\n",
    "ens_model = Ensemble_G2V(ExtendedGraph2Vec(dimensions=single_emb_size),ExtendedGraph2Vec(use_pv_dm=True,dimensions=single_emb_size))"
   ]
  },
  {
   "cell_type": "code",
   "execution_count": 7,
   "metadata": {},
   "outputs": [
    {
     "data": {
      "application/vnd.jupyter.widget-view+json": {
       "model_id": "a24a03ed4ace42aeaa7cb82da5546420",
       "version_major": 2,
       "version_minor": 0
      },
      "text/plain": [
       "  0%|          | 0/3 [00:00<?, ?it/s]"
      ]
     },
     "metadata": {},
     "output_type": "display_data"
    },
    {
     "data": {
      "application/vnd.jupyter.widget-view+json": {
       "model_id": "3cfd7150d2f945d7b12739869cb9f3da",
       "version_major": 2,
       "version_minor": 0
      },
      "text/plain": [
       "  0%|          | 0/25 [00:00<?, ?it/s]"
      ]
     },
     "metadata": {},
     "output_type": "display_data"
    },
    {
     "data": {
      "application/vnd.jupyter.widget-view+json": {
       "model_id": "ddd78111ee534910878fd845b3061d6a",
       "version_major": 2,
       "version_minor": 0
      },
      "text/plain": [
       "  0%|          | 0/25 [00:00<?, ?it/s]"
      ]
     },
     "metadata": {},
     "output_type": "display_data"
    },
    {
     "data": {
      "application/vnd.jupyter.widget-view+json": {
       "model_id": "789eb85578c649f5aa2ee866faca99fe",
       "version_major": 2,
       "version_minor": 0
      },
      "text/plain": [
       "  0%|          | 0/25 [00:00<?, ?it/s]"
      ]
     },
     "metadata": {},
     "output_type": "display_data"
    }
   ],
   "source": [
    "res = []\n",
    "for measure, order in tqdm(order_dict.items()):\n",
    "    ens_model.fit(graphs, orderings=order)\n",
    "    for name, (func, args) in tqdm(WEIGHTING_FUNCTIONS.items(), leave=False):\n",
    "        ens_model.set_weighting_function(func, *args)\n",
    "        res.append(\n",
    "            generate_results(\n",
    "                ens_model.get_embedding(),\n",
    "                labels=labels,\n",
    "                classifier=LogisticRegression(max_iter=1000),\n",
    "                method=f\"{measure}_{name}\",\n",
    "                cv=cv_fold,\n",
    "            )\n",
    "        )"
   ]
  },
  {
   "cell_type": "code",
   "execution_count": 8,
   "metadata": {},
   "outputs": [],
   "source": [
    "# pd.concat(res, ignore_index=True).to_csv(\"../datasets/github_stargazers/results.csv\")\n",
    "# pd.concat(res, ignore_index=True).to_csv(\"../datasets/partition_graphs/results.csv\")\n",
    "pd.concat(res, ignore_index=True).to_csv(\"../datasets/regular_graphs/results.csv\")"
   ]
  }
 ],
 "metadata": {
  "kernelspec": {
   "display_name": "MLG",
   "language": "python",
   "name": "python3"
  },
  "language_info": {
   "codemirror_mode": {
    "name": "ipython",
    "version": 3
   },
   "file_extension": ".py",
   "mimetype": "text/x-python",
   "name": "python",
   "nbconvert_exporter": "python",
   "pygments_lexer": "ipython3",
   "version": "3.9.2"
  },
  "orig_nbformat": 4
 },
 "nbformat": 4,
 "nbformat_minor": 2
}
