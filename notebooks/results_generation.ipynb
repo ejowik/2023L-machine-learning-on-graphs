{
 "cells": [
  {
   "cell_type": "code",
   "execution_count": 1,
   "metadata": {},
   "outputs": [],
   "source": [
    "%load_ext autoreload\n",
    "%autoreload 2\n",
    "import sys\n",
    "\n",
    "sys.path.append(\"../\")\n",
    "from src.utils import *\n",
    "from src.graph2vec import ExtendedGraph2Vec, Ensemble_G2V\n",
    "from sklearn.model_selection import LeaveOneOut\n",
    "import pandas as pd"
   ]
  },
  {
   "cell_type": "code",
   "execution_count": 2,
   "metadata": {},
   "outputs": [],
   "source": [
    "def which_to_generate(num:int):\n",
    "    path=\"../datasets/github_stargazers\" if num==0 else \"../datasets/regular_graps/\" if num==1 else \"../datasets/partition_graphs/\"\n",
    "    graphs, labels = read_stargazers_dataset(\"../datasets/github_stargazers\") if num==0 else load_artificial(path)\n",
    "    order_dict = np.load(f\"{path}orderings.npy\", allow_pickle=True)[()]\n",
    "    return graphs,labels,order_dict,path"
   ]
  },
  {
   "cell_type": "code",
   "execution_count": 3,
   "metadata": {},
   "outputs": [],
   "source": [
    "DATASET_NUMBER=2"
   ]
  },
  {
   "cell_type": "code",
   "execution_count": 4,
   "metadata": {},
   "outputs": [
    {
     "data": {
      "application/vnd.jupyter.widget-view+json": {
       "model_id": "9a14c27ae7d04986883dc07fc82e1aab",
       "version_major": 2,
       "version_minor": 0
      },
      "text/plain": [
       "  0%|          | 0/900 [00:00<?, ?it/s]"
      ]
     },
     "metadata": {},
     "output_type": "display_data"
    },
    {
     "ename": "ValueError",
     "evalue": "too many values to unpack (expected 2)",
     "output_type": "error",
     "traceback": [
      "\u001b[0;31m---------------------------------------------------------------------------\u001b[0m",
      "\u001b[0;31mValueError\u001b[0m                                Traceback (most recent call last)",
      "Cell \u001b[0;32mIn[4], line 5\u001b[0m\n\u001b[1;32m      1\u001b[0m \u001b[39m# cv_fold = 64\u001b[39;00m\n\u001b[1;32m      3\u001b[0m graphs, labels,order_dict,path_to_save\u001b[39m=\u001b[39mwhich_to_generate(DATASET_NUMBER)\n\u001b[0;32m----> 5\u001b[0m cv_fold,single_emb_size\u001b[39m=\u001b[39m\u001b[39m64\u001b[39m,\u001b[39m123\u001b[39m \u001b[39mif\u001b[39;00m DATASET_NUMBER\u001b[39m==\u001b[39m\u001b[39m0\u001b[39m \u001b[39melse\u001b[39;00m \u001b[39m105\u001b[39m,\u001b[39m2\u001b[39m \u001b[39mif\u001b[39;00m DATASET_NUMBER\u001b[39m==\u001b[39m\u001b[39m1\u001b[39m \u001b[39melse\u001b[39;00m \u001b[39m100\u001b[39m,\u001b[39m20\u001b[39m\n\u001b[1;32m      7\u001b[0m tested_range \u001b[39m=\u001b[39m np\u001b[39m.\u001b[39mlinspace(\u001b[39m0\u001b[39m, \u001b[39m1\u001b[39m, \u001b[39m11\u001b[39m)\n\u001b[1;32m      9\u001b[0m WEIGHTING_FUNCTIONS \u001b[39m=\u001b[39m (\n\u001b[1;32m     10\u001b[0m     {\u001b[39mf\u001b[39m\u001b[39m\"\u001b[39m\u001b[39mw_mean_\u001b[39m\u001b[39m{\u001b[39;00ma\u001b[39m:\u001b[39;00m\u001b[39m.2f\u001b[39m\u001b[39m}\u001b[39;00m\u001b[39m\"\u001b[39m: (\u001b[39m\"\u001b[39m\u001b[39mw_mean\u001b[39m\u001b[39m\"\u001b[39m, [a]) \u001b[39mfor\u001b[39;00m a \u001b[39min\u001b[39;00m tested_range}\n\u001b[1;32m     11\u001b[0m     \u001b[39m|\u001b[39m {\u001b[39mf\u001b[39m\u001b[39m\"\u001b[39m\u001b[39mconcat\u001b[39m\u001b[39m\"\u001b[39m: (\u001b[39m\"\u001b[39m\u001b[39mconcatenate\u001b[39m\u001b[39m\"\u001b[39m, [])}\n\u001b[1;32m     12\u001b[0m     \u001b[39m|\u001b[39m {\u001b[39mf\u001b[39m\u001b[39m\"\u001b[39m\u001b[39mp_proj_\u001b[39m\u001b[39m{\u001b[39;00ma\u001b[39m}\u001b[39;00m\u001b[39m\"\u001b[39m: (\u001b[39m\"\u001b[39m\u001b[39mpartial_projection\u001b[39m\u001b[39m\"\u001b[39m, [\u001b[39m0\u001b[39m, a]) \u001b[39mfor\u001b[39;00m a \u001b[39min\u001b[39;00m (\u001b[39mTrue\u001b[39;00m, \u001b[39mFalse\u001b[39;00m)}\n\u001b[1;32m     13\u001b[0m     \u001b[39m|\u001b[39m {\u001b[39mf\u001b[39m\u001b[39m\"\u001b[39m\u001b[39mw_proj_\u001b[39m\u001b[39m{\u001b[39;00ma\u001b[39m:\u001b[39;00m\u001b[39m.2f\u001b[39m\u001b[39m}\u001b[39;00m\u001b[39m\"\u001b[39m: (\u001b[39m\"\u001b[39m\u001b[39mw_projection\u001b[39m\u001b[39m\"\u001b[39m, [a]) \u001b[39mfor\u001b[39;00m a \u001b[39min\u001b[39;00m tested_range}\n\u001b[1;32m     14\u001b[0m )\n",
      "\u001b[0;31mValueError\u001b[0m: too many values to unpack (expected 2)"
     ]
    }
   ],
   "source": [
    "# cv_fold = 64\n",
    "\n",
    "graphs, labels,order_dict,path_to_save=which_to_generate(DATASET_NUMBER)\n",
    "\n",
    "cv_fold,single_emb_size=64,124 if DATASET_NUMBER==0 else 105,2 if DATASET_NUMBER==1 else 100,20\n",
    "\n",
    "tested_range = np.linspace(0, 1, 11)\n",
    "\n",
    "WEIGHTING_FUNCTIONS = (\n",
    "    {f\"w_mean_{a:.2f}\": (\"w_mean\", [a]) for a in tested_range}\n",
    "    | {f\"concat\": (\"concatenate\", [])}\n",
    "    | {f\"p_proj_{a}\": (\"partial_projection\", [0, a]) for a in (True, False)}\n",
    "    | {f\"w_proj_{a:.2f}\": (\"w_projection\", [a]) for a in tested_range}\n",
    ")\n",
    "\n",
    "ens_model = Ensemble_G2V(ExtendedGraph2Vec(dimensions=single_emb_size),ExtendedGraph2Vec(use_pv_dm=True,dimensions=single_emb_size))"
   ]
  },
  {
   "cell_type": "code",
   "execution_count": null,
   "metadata": {},
   "outputs": [
    {
     "data": {
      "application/vnd.jupyter.widget-view+json": {
       "model_id": "e9ab0fab2dfb41269443a52f99cd647d",
       "version_major": 2,
       "version_minor": 0
      },
      "text/plain": [
       "  0%|          | 0/3 [00:00<?, ?it/s]"
      ]
     },
     "metadata": {},
     "output_type": "display_data"
    },
    {
     "data": {
      "application/vnd.jupyter.widget-view+json": {
       "model_id": "924dfceff9f442d1b54c2ead5432259d",
       "version_major": 2,
       "version_minor": 0
      },
      "text/plain": [
       "  0%|          | 0/25 [00:00<?, ?it/s]"
      ]
     },
     "metadata": {},
     "output_type": "display_data"
    },
    {
     "data": {
      "application/vnd.jupyter.widget-view+json": {
       "model_id": "00eb17e119cc423ca30a69d29a11c61c",
       "version_major": 2,
       "version_minor": 0
      },
      "text/plain": [
       "  0%|          | 0/25 [00:00<?, ?it/s]"
      ]
     },
     "metadata": {},
     "output_type": "display_data"
    },
    {
     "data": {
      "application/vnd.jupyter.widget-view+json": {
       "model_id": "e69cf42920a849dbb9e4c624c8157263",
       "version_major": 2,
       "version_minor": 0
      },
      "text/plain": [
       "  0%|          | 0/25 [00:00<?, ?it/s]"
      ]
     },
     "metadata": {},
     "output_type": "display_data"
    }
   ],
   "source": [
    "res = []\n",
    "for measure, order in tqdm(order_dict.items()):\n",
    "    for name, (func, args) in tqdm(WEIGHTING_FUNCTIONS.items(), leave=False):\n",
    "        ens_model.set_weighting_function(func, *args)\n",
    "        res.append(\n",
    "            cross_validate_graphs(\n",
    "                graphs=graphs,\n",
    "                ordering=order,\n",
    "                labels=labels,\n",
    "                n_splits=cv_fold,\n",
    "                embedder=ens_model,\n",
    "                cls=LogisticRegression(max_iter=1000),\n",
    "                method=f\"{measure}_{name}\",\n",
    "            )\n",
    "        )"
   ]
  },
  {
   "cell_type": "code",
   "execution_count": null,
   "metadata": {},
   "outputs": [
    {
     "data": {
      "text/html": [
       "<div>\n",
       "<style scoped>\n",
       "    .dataframe tbody tr th:only-of-type {\n",
       "        vertical-align: middle;\n",
       "    }\n",
       "\n",
       "    .dataframe tbody tr th {\n",
       "        vertical-align: top;\n",
       "    }\n",
       "\n",
       "    .dataframe thead th {\n",
       "        text-align: right;\n",
       "    }\n",
       "</style>\n",
       "<table border=\"1\" class=\"dataframe\">\n",
       "  <thead>\n",
       "    <tr style=\"text-align: right;\">\n",
       "      <th></th>\n",
       "      <th>Unnamed: 0</th>\n",
       "      <th>graph_id</th>\n",
       "      <th>method</th>\n",
       "      <th>binary_prediction</th>\n",
       "      <th>true_label</th>\n",
       "      <th>probability_prediction_0</th>\n",
       "      <th>probability_prediction_1</th>\n",
       "      <th>probability_prediction_2</th>\n",
       "    </tr>\n",
       "  </thead>\n",
       "  <tbody>\n",
       "    <tr>\n",
       "      <th>38770</th>\n",
       "      <td>38770</td>\n",
       "      <td>70</td>\n",
       "      <td>closeness_centrality_w_proj_0.40</td>\n",
       "      <td>0</td>\n",
       "      <td>0</td>\n",
       "      <td>0.589159</td>\n",
       "      <td>0.121353</td>\n",
       "      <td>0.289488</td>\n",
       "    </tr>\n",
       "    <tr>\n",
       "      <th>64901</th>\n",
       "      <td>64901</td>\n",
       "      <td>101</td>\n",
       "      <td>current_flow_closeness_centrality_w_proj_0.80</td>\n",
       "      <td>2</td>\n",
       "      <td>0</td>\n",
       "      <td>0.420875</td>\n",
       "      <td>0.111172</td>\n",
       "      <td>0.467953</td>\n",
       "    </tr>\n",
       "    <tr>\n",
       "      <th>58220</th>\n",
       "      <td>58220</td>\n",
       "      <td>620</td>\n",
       "      <td>current_flow_closeness_centrality_w_proj_0.00</td>\n",
       "      <td>2</td>\n",
       "      <td>2</td>\n",
       "      <td>0.202203</td>\n",
       "      <td>0.100080</td>\n",
       "      <td>0.697717</td>\n",
       "    </tr>\n",
       "    <tr>\n",
       "      <th>52800</th>\n",
       "      <td>52800</td>\n",
       "      <td>600</td>\n",
       "      <td>current_flow_closeness_centrality_w_mean_0.80</td>\n",
       "      <td>2</td>\n",
       "      <td>2</td>\n",
       "      <td>0.306494</td>\n",
       "      <td>0.108633</td>\n",
       "      <td>0.584872</td>\n",
       "    </tr>\n",
       "    <tr>\n",
       "      <th>48906</th>\n",
       "      <td>48906</td>\n",
       "      <td>306</td>\n",
       "      <td>current_flow_closeness_centrality_w_mean_0.40</td>\n",
       "      <td>2</td>\n",
       "      <td>2</td>\n",
       "      <td>0.376102</td>\n",
       "      <td>0.113332</td>\n",
       "      <td>0.510566</td>\n",
       "    </tr>\n",
       "    <tr>\n",
       "      <th>49445</th>\n",
       "      <td>49445</td>\n",
       "      <td>845</td>\n",
       "      <td>current_flow_closeness_centrality_w_mean_0.40</td>\n",
       "      <td>0</td>\n",
       "      <td>0</td>\n",
       "      <td>0.475508</td>\n",
       "      <td>0.127786</td>\n",
       "      <td>0.396706</td>\n",
       "    </tr>\n",
       "    <tr>\n",
       "      <th>47681</th>\n",
       "      <td>47681</td>\n",
       "      <td>881</td>\n",
       "      <td>current_flow_closeness_centrality_w_mean_0.20</td>\n",
       "      <td>2</td>\n",
       "      <td>2</td>\n",
       "      <td>0.398508</td>\n",
       "      <td>0.114377</td>\n",
       "      <td>0.487115</td>\n",
       "    </tr>\n",
       "    <tr>\n",
       "      <th>4879</th>\n",
       "      <td>4879</td>\n",
       "      <td>379</td>\n",
       "      <td>pagerank_w_mean_0.50</td>\n",
       "      <td>0</td>\n",
       "      <td>0</td>\n",
       "      <td>0.590183</td>\n",
       "      <td>0.114328</td>\n",
       "      <td>0.295489</td>\n",
       "    </tr>\n",
       "    <tr>\n",
       "      <th>64594</th>\n",
       "      <td>64594</td>\n",
       "      <td>694</td>\n",
       "      <td>current_flow_closeness_centrality_w_proj_0.70</td>\n",
       "      <td>2</td>\n",
       "      <td>2</td>\n",
       "      <td>0.280257</td>\n",
       "      <td>0.091438</td>\n",
       "      <td>0.628305</td>\n",
       "    </tr>\n",
       "    <tr>\n",
       "      <th>18494</th>\n",
       "      <td>18494</td>\n",
       "      <td>494</td>\n",
       "      <td>pagerank_w_proj_0.60</td>\n",
       "      <td>2</td>\n",
       "      <td>1</td>\n",
       "      <td>0.380208</td>\n",
       "      <td>0.122780</td>\n",
       "      <td>0.497012</td>\n",
       "    </tr>\n",
       "    <tr>\n",
       "      <th>56109</th>\n",
       "      <td>56109</td>\n",
       "      <td>309</td>\n",
       "      <td>current_flow_closeness_centrality_p_proj_True</td>\n",
       "      <td>2</td>\n",
       "      <td>2</td>\n",
       "      <td>0.188895</td>\n",
       "      <td>0.096440</td>\n",
       "      <td>0.714664</td>\n",
       "    </tr>\n",
       "    <tr>\n",
       "      <th>42656</th>\n",
       "      <td>42656</td>\n",
       "      <td>356</td>\n",
       "      <td>closeness_centrality_w_proj_0.80</td>\n",
       "      <td>2</td>\n",
       "      <td>2</td>\n",
       "      <td>0.310243</td>\n",
       "      <td>0.112108</td>\n",
       "      <td>0.577650</td>\n",
       "    </tr>\n",
       "    <tr>\n",
       "      <th>10761</th>\n",
       "      <td>10761</td>\n",
       "      <td>861</td>\n",
       "      <td>pagerank_concat</td>\n",
       "      <td>0</td>\n",
       "      <td>1</td>\n",
       "      <td>0.582156</td>\n",
       "      <td>0.124660</td>\n",
       "      <td>0.293184</td>\n",
       "    </tr>\n",
       "    <tr>\n",
       "      <th>46891</th>\n",
       "      <td>46891</td>\n",
       "      <td>91</td>\n",
       "      <td>current_flow_closeness_centrality_w_mean_0.20</td>\n",
       "      <td>2</td>\n",
       "      <td>1</td>\n",
       "      <td>0.371397</td>\n",
       "      <td>0.116900</td>\n",
       "      <td>0.511703</td>\n",
       "    </tr>\n",
       "    <tr>\n",
       "      <th>9060</th>\n",
       "      <td>9060</td>\n",
       "      <td>60</td>\n",
       "      <td>pagerank_w_mean_1.00</td>\n",
       "      <td>2</td>\n",
       "      <td>2</td>\n",
       "      <td>0.382852</td>\n",
       "      <td>0.107781</td>\n",
       "      <td>0.509368</td>\n",
       "    </tr>\n",
       "  </tbody>\n",
       "</table>\n",
       "</div>"
      ],
      "text/plain": [
       "       Unnamed: 0  graph_id                                         method  \\\n",
       "38770       38770        70               closeness_centrality_w_proj_0.40   \n",
       "64901       64901       101  current_flow_closeness_centrality_w_proj_0.80   \n",
       "58220       58220       620  current_flow_closeness_centrality_w_proj_0.00   \n",
       "52800       52800       600  current_flow_closeness_centrality_w_mean_0.80   \n",
       "48906       48906       306  current_flow_closeness_centrality_w_mean_0.40   \n",
       "49445       49445       845  current_flow_closeness_centrality_w_mean_0.40   \n",
       "47681       47681       881  current_flow_closeness_centrality_w_mean_0.20   \n",
       "4879         4879       379                           pagerank_w_mean_0.50   \n",
       "64594       64594       694  current_flow_closeness_centrality_w_proj_0.70   \n",
       "18494       18494       494                           pagerank_w_proj_0.60   \n",
       "56109       56109       309  current_flow_closeness_centrality_p_proj_True   \n",
       "42656       42656       356               closeness_centrality_w_proj_0.80   \n",
       "10761       10761       861                                pagerank_concat   \n",
       "46891       46891        91  current_flow_closeness_centrality_w_mean_0.20   \n",
       "9060         9060        60                           pagerank_w_mean_1.00   \n",
       "\n",
       "       binary_prediction  true_label  probability_prediction_0  \\\n",
       "38770                  0           0                  0.589159   \n",
       "64901                  2           0                  0.420875   \n",
       "58220                  2           2                  0.202203   \n",
       "52800                  2           2                  0.306494   \n",
       "48906                  2           2                  0.376102   \n",
       "49445                  0           0                  0.475508   \n",
       "47681                  2           2                  0.398508   \n",
       "4879                   0           0                  0.590183   \n",
       "64594                  2           2                  0.280257   \n",
       "18494                  2           1                  0.380208   \n",
       "56109                  2           2                  0.188895   \n",
       "42656                  2           2                  0.310243   \n",
       "10761                  0           1                  0.582156   \n",
       "46891                  2           1                  0.371397   \n",
       "9060                   2           2                  0.382852   \n",
       "\n",
       "       probability_prediction_1  probability_prediction_2  \n",
       "38770                  0.121353                  0.289488  \n",
       "64901                  0.111172                  0.467953  \n",
       "58220                  0.100080                  0.697717  \n",
       "52800                  0.108633                  0.584872  \n",
       "48906                  0.113332                  0.510566  \n",
       "49445                  0.127786                  0.396706  \n",
       "47681                  0.114377                  0.487115  \n",
       "4879                   0.114328                  0.295489  \n",
       "64594                  0.091438                  0.628305  \n",
       "18494                  0.122780                  0.497012  \n",
       "56109                  0.096440                  0.714664  \n",
       "42656                  0.112108                  0.577650  \n",
       "10761                  0.124660                  0.293184  \n",
       "46891                  0.116900                  0.511703  \n",
       "9060                   0.107781                  0.509368  "
      ]
     },
     "execution_count": 19,
     "metadata": {},
     "output_type": "execute_result"
    }
   ],
   "source": [
    "pd.concat(res, ignore_index=True).to_csv(f\"{path_to_save}results2.csv\")\n",
    "pd.read_csv(f\"{path_to_save}results2.csv\").sample(15)"
   ]
  }
 ],
 "metadata": {
  "kernelspec": {
   "display_name": "MLG",
   "language": "python",
   "name": "python3"
  },
  "language_info": {
   "codemirror_mode": {
    "name": "ipython",
    "version": 3
   },
   "file_extension": ".py",
   "mimetype": "text/x-python",
   "name": "python",
   "nbconvert_exporter": "python",
   "pygments_lexer": "ipython3",
   "version": "3.9.2"
  },
  "orig_nbformat": 4
 },
 "nbformat": 4,
 "nbformat_minor": 2
}
