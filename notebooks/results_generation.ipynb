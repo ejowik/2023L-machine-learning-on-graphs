{
 "cells": [
  {
   "cell_type": "code",
   "execution_count": 1,
   "metadata": {},
   "outputs": [],
   "source": [
    "%load_ext autoreload\n",
    "%autoreload 2\n",
    "import sys\n",
    "\n",
    "sys.path.append(\"../\")\n",
    "from src.utils import *\n",
    "from src.graph2vec import ExtendedGraph2Vec, Ensemble_G2V"
   ]
  },
  {
   "cell_type": "code",
   "execution_count": 2,
   "metadata": {},
   "outputs": [
    {
     "name": "stdout",
     "output_type": "stream",
     "text": [
      "Loaded 12725 graphs\n"
     ]
    }
   ],
   "source": [
    "graphs, labels = read_stargazers_dataset(\"../datasets/github_stargazers\")\n",
    "\n",
    "order_dict = np.load(\"../datasets/github_stargazers/orderings.npy\", allow_pickle=True)[\n",
    "    ()\n",
    "]\n",
    "\n",
    "cv_fold = 64\n",
    "\n",
    "tested_range = np.linspace(0, 1, 11)\n",
    "\n",
    "WEIGHTING_FUNCTIONS = (\n",
    "    {f\"w_mean_{a:.2f}\": (\"w_mean\", [a]) for a in tested_range}\n",
    "    | {f\"concat\": (\"concatenate\", [])}\n",
    "    | {f\"p_proj_{a}\": (\"partial_projection\", [0, a]) for a in (True, False)}\n",
    "    | {f\"w_proj_{a:.2f}\": (\"w_projection\", [a]) for a in tested_range}\n",
    ")\n",
    "\n",
    "ens_model = Ensemble_G2V()"
   ]
  },
  {
   "cell_type": "code",
   "execution_count": 3,
   "metadata": {},
   "outputs": [
    {
     "data": {
      "application/vnd.jupyter.widget-view+json": {
       "model_id": "a62ae3dc7be841f9bb0cad431f883c5c",
       "version_major": 2,
       "version_minor": 0
      },
      "text/plain": [
       "  0%|          | 0/3 [00:00<?, ?it/s]"
      ]
     },
     "metadata": {},
     "output_type": "display_data"
    },
    {
     "data": {
      "application/vnd.jupyter.widget-view+json": {
       "model_id": "4e454f84e1c348b39dd8f65fbc230255",
       "version_major": 2,
       "version_minor": 0
      },
      "text/plain": [
       "  0%|          | 0/25 [00:00<?, ?it/s]"
      ]
     },
     "metadata": {},
     "output_type": "display_data"
    },
    {
     "data": {
      "application/vnd.jupyter.widget-view+json": {
       "model_id": "f4d0659c1fea4948b51b2f12c8e89046",
       "version_major": 2,
       "version_minor": 0
      },
      "text/plain": [
       "  0%|          | 0/25 [00:00<?, ?it/s]"
      ]
     },
     "metadata": {},
     "output_type": "display_data"
    },
    {
     "data": {
      "application/vnd.jupyter.widget-view+json": {
       "model_id": "bd417bbfa2144cea9d19981b45a67534",
       "version_major": 2,
       "version_minor": 0
      },
      "text/plain": [
       "  0%|          | 0/25 [00:00<?, ?it/s]"
      ]
     },
     "metadata": {},
     "output_type": "display_data"
    }
   ],
   "source": [
    "res = []\n",
    "for measure, order in tqdm(order_dict.items()):\n",
    "    ens_model.fit(graphs, orderings=order)\n",
    "    for name, (func, args) in tqdm(WEIGHTING_FUNCTIONS.items(), leave=False):\n",
    "        ens_model.set_weighting_function(func, *args)\n",
    "        res.append(\n",
    "            generate_results(\n",
    "                ens_model.get_embedding(),\n",
    "                labels=labels,\n",
    "                classifier=LogisticRegression(max_iter=1000),\n",
    "                method=f\"{measure}_{name}\",\n",
    "                cv=cv_fold,\n",
    "            )\n",
    "        )"
   ]
  },
  {
   "cell_type": "code",
   "execution_count": 7,
   "metadata": {},
   "outputs": [],
   "source": [
    "pd.concat(res, ignore_index=True).to_csv(\"../datasets/github_stargazers/results.csv\")"
   ]
  },
  {
   "cell_type": "code",
   "execution_count": null,
   "metadata": {},
   "outputs": [],
   "source": []
  }
 ],
 "metadata": {
  "kernelspec": {
   "display_name": "MLG",
   "language": "python",
   "name": "python3"
  },
  "language_info": {
   "codemirror_mode": {
    "name": "ipython",
    "version": 3
   },
   "file_extension": ".py",
   "mimetype": "text/x-python",
   "name": "python",
   "nbconvert_exporter": "python",
   "pygments_lexer": "ipython3",
   "version": "3.9.2"
  },
  "orig_nbformat": 4
 },
 "nbformat": 4,
 "nbformat_minor": 2
}
