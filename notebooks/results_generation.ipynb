{
 "cells": [
  {
   "cell_type": "code",
   "execution_count": 7,
   "metadata": {},
   "outputs": [
    {
     "name": "stdout",
     "output_type": "stream",
     "text": [
      "The autoreload extension is already loaded. To reload it, use:\n",
      "  %reload_ext autoreload\n"
     ]
    }
   ],
   "source": [
    "%load_ext autoreload\n",
    "%autoreload 2\n",
    "import sys\n",
    "\n",
    "sys.path.append(\"../\")\n",
    "from src.utils import *\n",
    "from src.graph2vec import ExtendedGraph2Vec, Ensemble_G2V\n",
    "from sklearn.model_selection import LeaveOneOut\n",
    "import pandas as pd"
   ]
  },
  {
   "cell_type": "code",
   "execution_count": 8,
   "metadata": {},
   "outputs": [],
   "source": [
    "def which_to_generate(num: int):\n",
    "    path = (\n",
    "        \"../datasets/github_stargazers/\"\n",
    "        if num == 0\n",
    "        else \"../datasets/regular_graphs/\"\n",
    "        if num == 1\n",
    "        else \"../datasets/partition_graphs/\"\n",
    "    )\n",
    "    graphs, labels = (\n",
    "        read_stargazers_dataset(\"../datasets/github_stargazers\")\n",
    "        if num == 0\n",
    "        else load_artificial(path)\n",
    "    )\n",
    "    order_dict = np.load(f\"{path}orderings.npy\", allow_pickle=True)[()]\n",
    "    return graphs, labels, order_dict, path"
   ]
  },
  {
   "cell_type": "code",
   "execution_count": 9,
   "metadata": {},
   "outputs": [],
   "source": [
    "DATASET_NUMBER = 1"
   ]
  },
  {
   "cell_type": "code",
   "execution_count": 10,
   "metadata": {},
   "outputs": [
    {
     "data": {
      "application/vnd.jupyter.widget-view+json": {
       "model_id": "ae853bb1a90349c19ee2ebdda6ed2f8e",
       "version_major": 2,
       "version_minor": 0
      },
      "text/plain": [
       "  0%|          | 0/475 [00:00<?, ?it/s]"
      ]
     },
     "metadata": {},
     "output_type": "display_data"
    }
   ],
   "source": [
    "# cv_fold = 64\n",
    "\n",
    "graphs, labels, order_dict, path_to_save = which_to_generate(DATASET_NUMBER)\n",
    "\n",
    "cv_fold = 10\n",
    "single_emb_size = 128 if DATASET_NUMBER == 0 else 2 if DATASET_NUMBER == 1 else 15\n",
    "\n",
    "\n",
    "tested_range = np.linspace(0, 1, 5)\n",
    "\n",
    "WEIGHTING_FUNCTIONS = (\n",
    "    {f\"w_mean_{a:.2f}\": (\"w_mean\", [a]) for a in tested_range}\n",
    "    | {f\"concat\": (\"concatenate\", [])}\n",
    "    | {f\"p_proj_{a}\": (\"partial_projection\", [0, a]) for a in (True, False)}\n",
    "    | {f\"w_proj_{a:.2f}\": (\"w_projection\", [a]) for a in tested_range}\n",
    ")\n",
    "\n",
    "ens_model = Ensemble_G2V(\n",
    "    ExtendedGraph2Vec(dimensions=single_emb_size),\n",
    "    ExtendedGraph2Vec(use_pv_dm=True, dimensions=single_emb_size),\n",
    ")"
   ]
  },
  {
   "cell_type": "code",
   "execution_count": 11,
   "metadata": {},
   "outputs": [
    {
     "data": {
      "application/vnd.jupyter.widget-view+json": {
       "model_id": "50a75c20f2484ff097a6880a84a3168f",
       "version_major": 2,
       "version_minor": 0
      },
      "text/plain": [
       "  0%|          | 0/3 [00:00<?, ?it/s]"
      ]
     },
     "metadata": {},
     "output_type": "display_data"
    },
    {
     "data": {
      "application/vnd.jupyter.widget-view+json": {
       "model_id": "ddedf79d073a4e96849dfeee19ff8ed4",
       "version_major": 2,
       "version_minor": 0
      },
      "text/plain": [
       "  0%|          | 0/13 [00:00<?, ?it/s]"
      ]
     },
     "metadata": {},
     "output_type": "display_data"
    },
    {
     "data": {
      "application/vnd.jupyter.widget-view+json": {
       "model_id": "23d774946c66422ca001afd9fdb15c22",
       "version_major": 2,
       "version_minor": 0
      },
      "text/plain": [
       "  0%|          | 0/10 [00:00<?, ?it/s]"
      ]
     },
     "metadata": {},
     "output_type": "display_data"
    },
    {
     "data": {
      "application/vnd.jupyter.widget-view+json": {
       "model_id": "1e7ecb491036493da81beb8611c40445",
       "version_major": 2,
       "version_minor": 0
      },
      "text/plain": [
       "  0%|          | 0/10 [00:00<?, ?it/s]"
      ]
     },
     "metadata": {},
     "output_type": "display_data"
    },
    {
     "data": {
      "application/vnd.jupyter.widget-view+json": {
       "model_id": "fc2d525fa27d46feb4063cb5e963930a",
       "version_major": 2,
       "version_minor": 0
      },
      "text/plain": [
       "  0%|          | 0/10 [00:00<?, ?it/s]"
      ]
     },
     "metadata": {},
     "output_type": "display_data"
    },
    {
     "data": {
      "application/vnd.jupyter.widget-view+json": {
       "model_id": "0b1fa39f1dd9412e9c8a7279f33d84e8",
       "version_major": 2,
       "version_minor": 0
      },
      "text/plain": [
       "  0%|          | 0/10 [00:00<?, ?it/s]"
      ]
     },
     "metadata": {},
     "output_type": "display_data"
    },
    {
     "data": {
      "application/vnd.jupyter.widget-view+json": {
       "model_id": "8f5b683be23e4d519204b69181279e66",
       "version_major": 2,
       "version_minor": 0
      },
      "text/plain": [
       "  0%|          | 0/10 [00:00<?, ?it/s]"
      ]
     },
     "metadata": {},
     "output_type": "display_data"
    },
    {
     "data": {
      "application/vnd.jupyter.widget-view+json": {
       "model_id": "63b7f010a73549b0ad6f2eeb33f37f99",
       "version_major": 2,
       "version_minor": 0
      },
      "text/plain": [
       "  0%|          | 0/10 [00:00<?, ?it/s]"
      ]
     },
     "metadata": {},
     "output_type": "display_data"
    },
    {
     "data": {
      "application/vnd.jupyter.widget-view+json": {
       "model_id": "d2b85720233144439f87693aa510909e",
       "version_major": 2,
       "version_minor": 0
      },
      "text/plain": [
       "  0%|          | 0/10 [00:00<?, ?it/s]"
      ]
     },
     "metadata": {},
     "output_type": "display_data"
    },
    {
     "data": {
      "application/vnd.jupyter.widget-view+json": {
       "model_id": "98cae39bdfcf4505bcbc29adc266058a",
       "version_major": 2,
       "version_minor": 0
      },
      "text/plain": [
       "  0%|          | 0/10 [00:00<?, ?it/s]"
      ]
     },
     "metadata": {},
     "output_type": "display_data"
    },
    {
     "data": {
      "application/vnd.jupyter.widget-view+json": {
       "model_id": "cfbba64a1dfb40118641fdc23f14fa53",
       "version_major": 2,
       "version_minor": 0
      },
      "text/plain": [
       "  0%|          | 0/10 [00:00<?, ?it/s]"
      ]
     },
     "metadata": {},
     "output_type": "display_data"
    },
    {
     "data": {
      "application/vnd.jupyter.widget-view+json": {
       "model_id": "6bafc039c4d843d391ea17ab9c19d85e",
       "version_major": 2,
       "version_minor": 0
      },
      "text/plain": [
       "  0%|          | 0/10 [00:00<?, ?it/s]"
      ]
     },
     "metadata": {},
     "output_type": "display_data"
    },
    {
     "data": {
      "application/vnd.jupyter.widget-view+json": {
       "model_id": "49260f7c6d5b4b369d3fd8b073557c62",
       "version_major": 2,
       "version_minor": 0
      },
      "text/plain": [
       "  0%|          | 0/10 [00:00<?, ?it/s]"
      ]
     },
     "metadata": {},
     "output_type": "display_data"
    },
    {
     "data": {
      "application/vnd.jupyter.widget-view+json": {
       "model_id": "37b1effa583c4e6cb0e03f599cf32f38",
       "version_major": 2,
       "version_minor": 0
      },
      "text/plain": [
       "  0%|          | 0/10 [00:00<?, ?it/s]"
      ]
     },
     "metadata": {},
     "output_type": "display_data"
    },
    {
     "data": {
      "application/vnd.jupyter.widget-view+json": {
       "model_id": "8a40496fd8f849f2b41c031762de3149",
       "version_major": 2,
       "version_minor": 0
      },
      "text/plain": [
       "  0%|          | 0/10 [00:00<?, ?it/s]"
      ]
     },
     "metadata": {},
     "output_type": "display_data"
    },
    {
     "data": {
      "application/vnd.jupyter.widget-view+json": {
       "model_id": "aa00760734aa4225ba52885c9abc1b80",
       "version_major": 2,
       "version_minor": 0
      },
      "text/plain": [
       "  0%|          | 0/13 [00:00<?, ?it/s]"
      ]
     },
     "metadata": {},
     "output_type": "display_data"
    },
    {
     "data": {
      "application/vnd.jupyter.widget-view+json": {
       "model_id": "9c8e99bf5bde4420ade6a8ae1f6945e5",
       "version_major": 2,
       "version_minor": 0
      },
      "text/plain": [
       "  0%|          | 0/10 [00:00<?, ?it/s]"
      ]
     },
     "metadata": {},
     "output_type": "display_data"
    },
    {
     "data": {
      "application/vnd.jupyter.widget-view+json": {
       "model_id": "3bac31fdaef844b58753ae8f6e432ac7",
       "version_major": 2,
       "version_minor": 0
      },
      "text/plain": [
       "  0%|          | 0/10 [00:00<?, ?it/s]"
      ]
     },
     "metadata": {},
     "output_type": "display_data"
    },
    {
     "data": {
      "application/vnd.jupyter.widget-view+json": {
       "model_id": "42037a0595d34d8193410600b2fe51d3",
       "version_major": 2,
       "version_minor": 0
      },
      "text/plain": [
       "  0%|          | 0/10 [00:00<?, ?it/s]"
      ]
     },
     "metadata": {},
     "output_type": "display_data"
    },
    {
     "data": {
      "application/vnd.jupyter.widget-view+json": {
       "model_id": "24899916ebc7426fb843adcf97967577",
       "version_major": 2,
       "version_minor": 0
      },
      "text/plain": [
       "  0%|          | 0/10 [00:00<?, ?it/s]"
      ]
     },
     "metadata": {},
     "output_type": "display_data"
    },
    {
     "data": {
      "application/vnd.jupyter.widget-view+json": {
       "model_id": "0036c204ed204b1db1b7d720ff6e52f5",
       "version_major": 2,
       "version_minor": 0
      },
      "text/plain": [
       "  0%|          | 0/10 [00:00<?, ?it/s]"
      ]
     },
     "metadata": {},
     "output_type": "display_data"
    },
    {
     "data": {
      "application/vnd.jupyter.widget-view+json": {
       "model_id": "fe15e429fb0e44c99aab142613c6d364",
       "version_major": 2,
       "version_minor": 0
      },
      "text/plain": [
       "  0%|          | 0/10 [00:00<?, ?it/s]"
      ]
     },
     "metadata": {},
     "output_type": "display_data"
    },
    {
     "data": {
      "application/vnd.jupyter.widget-view+json": {
       "model_id": "32d00e232573413493b2e1c6a5c6f452",
       "version_major": 2,
       "version_minor": 0
      },
      "text/plain": [
       "  0%|          | 0/10 [00:00<?, ?it/s]"
      ]
     },
     "metadata": {},
     "output_type": "display_data"
    },
    {
     "data": {
      "application/vnd.jupyter.widget-view+json": {
       "model_id": "b4e3d6d85264439e94e223cb0e1738b2",
       "version_major": 2,
       "version_minor": 0
      },
      "text/plain": [
       "  0%|          | 0/10 [00:00<?, ?it/s]"
      ]
     },
     "metadata": {},
     "output_type": "display_data"
    },
    {
     "data": {
      "application/vnd.jupyter.widget-view+json": {
       "model_id": "685e79c346344421974eeb52a9a87f9b",
       "version_major": 2,
       "version_minor": 0
      },
      "text/plain": [
       "  0%|          | 0/10 [00:00<?, ?it/s]"
      ]
     },
     "metadata": {},
     "output_type": "display_data"
    },
    {
     "data": {
      "application/vnd.jupyter.widget-view+json": {
       "model_id": "ce97ee3561144ee18ac8ee0e63f70bd1",
       "version_major": 2,
       "version_minor": 0
      },
      "text/plain": [
       "  0%|          | 0/10 [00:00<?, ?it/s]"
      ]
     },
     "metadata": {},
     "output_type": "display_data"
    },
    {
     "data": {
      "application/vnd.jupyter.widget-view+json": {
       "model_id": "55d921877f0e4478b402398f1adc3fa1",
       "version_major": 2,
       "version_minor": 0
      },
      "text/plain": [
       "  0%|          | 0/10 [00:00<?, ?it/s]"
      ]
     },
     "metadata": {},
     "output_type": "display_data"
    },
    {
     "data": {
      "application/vnd.jupyter.widget-view+json": {
       "model_id": "04eb8388ad2943ca966d7401b8f45e43",
       "version_major": 2,
       "version_minor": 0
      },
      "text/plain": [
       "  0%|          | 0/10 [00:00<?, ?it/s]"
      ]
     },
     "metadata": {},
     "output_type": "display_data"
    },
    {
     "data": {
      "application/vnd.jupyter.widget-view+json": {
       "model_id": "0c6f07a2565b4d6b88d226c192e89527",
       "version_major": 2,
       "version_minor": 0
      },
      "text/plain": [
       "  0%|          | 0/10 [00:00<?, ?it/s]"
      ]
     },
     "metadata": {},
     "output_type": "display_data"
    },
    {
     "data": {
      "application/vnd.jupyter.widget-view+json": {
       "model_id": "38389bc60860476c837ffe35481d26b4",
       "version_major": 2,
       "version_minor": 0
      },
      "text/plain": [
       "  0%|          | 0/13 [00:00<?, ?it/s]"
      ]
     },
     "metadata": {},
     "output_type": "display_data"
    },
    {
     "data": {
      "application/vnd.jupyter.widget-view+json": {
       "model_id": "0523b972b4884603855e1cebac0f1e7a",
       "version_major": 2,
       "version_minor": 0
      },
      "text/plain": [
       "  0%|          | 0/10 [00:00<?, ?it/s]"
      ]
     },
     "metadata": {},
     "output_type": "display_data"
    },
    {
     "data": {
      "application/vnd.jupyter.widget-view+json": {
       "model_id": "0a4e4231333f44708df74b1502e2f91e",
       "version_major": 2,
       "version_minor": 0
      },
      "text/plain": [
       "  0%|          | 0/10 [00:00<?, ?it/s]"
      ]
     },
     "metadata": {},
     "output_type": "display_data"
    },
    {
     "data": {
      "application/vnd.jupyter.widget-view+json": {
       "model_id": "b5de6db9a5b44952a6eda323a4748691",
       "version_major": 2,
       "version_minor": 0
      },
      "text/plain": [
       "  0%|          | 0/10 [00:00<?, ?it/s]"
      ]
     },
     "metadata": {},
     "output_type": "display_data"
    },
    {
     "data": {
      "application/vnd.jupyter.widget-view+json": {
       "model_id": "c9352b34e7c747bd8b4cd0506f5ef057",
       "version_major": 2,
       "version_minor": 0
      },
      "text/plain": [
       "  0%|          | 0/10 [00:00<?, ?it/s]"
      ]
     },
     "metadata": {},
     "output_type": "display_data"
    },
    {
     "data": {
      "application/vnd.jupyter.widget-view+json": {
       "model_id": "bcc298422f0d44099666da46324ace7e",
       "version_major": 2,
       "version_minor": 0
      },
      "text/plain": [
       "  0%|          | 0/10 [00:00<?, ?it/s]"
      ]
     },
     "metadata": {},
     "output_type": "display_data"
    },
    {
     "data": {
      "application/vnd.jupyter.widget-view+json": {
       "model_id": "315fa5bff1824ab5ab3daf7df4e335f9",
       "version_major": 2,
       "version_minor": 0
      },
      "text/plain": [
       "  0%|          | 0/10 [00:00<?, ?it/s]"
      ]
     },
     "metadata": {},
     "output_type": "display_data"
    },
    {
     "data": {
      "application/vnd.jupyter.widget-view+json": {
       "model_id": "29a44a145ad6466f8a071ebe8bfefec3",
       "version_major": 2,
       "version_minor": 0
      },
      "text/plain": [
       "  0%|          | 0/10 [00:00<?, ?it/s]"
      ]
     },
     "metadata": {},
     "output_type": "display_data"
    },
    {
     "data": {
      "application/vnd.jupyter.widget-view+json": {
       "model_id": "553d71f3a74945ff831fa057f7d4c6c0",
       "version_major": 2,
       "version_minor": 0
      },
      "text/plain": [
       "  0%|          | 0/10 [00:00<?, ?it/s]"
      ]
     },
     "metadata": {},
     "output_type": "display_data"
    },
    {
     "data": {
      "application/vnd.jupyter.widget-view+json": {
       "model_id": "943667590b454dd59b570114381ff11f",
       "version_major": 2,
       "version_minor": 0
      },
      "text/plain": [
       "  0%|          | 0/10 [00:00<?, ?it/s]"
      ]
     },
     "metadata": {},
     "output_type": "display_data"
    },
    {
     "data": {
      "application/vnd.jupyter.widget-view+json": {
       "model_id": "fc00a3cd68d746ef9dbfaa88eaec90f9",
       "version_major": 2,
       "version_minor": 0
      },
      "text/plain": [
       "  0%|          | 0/10 [00:00<?, ?it/s]"
      ]
     },
     "metadata": {},
     "output_type": "display_data"
    },
    {
     "data": {
      "application/vnd.jupyter.widget-view+json": {
       "model_id": "f13eb0be26154f75bdbfe5b30cf2304b",
       "version_major": 2,
       "version_minor": 0
      },
      "text/plain": [
       "  0%|          | 0/10 [00:00<?, ?it/s]"
      ]
     },
     "metadata": {},
     "output_type": "display_data"
    },
    {
     "data": {
      "application/vnd.jupyter.widget-view+json": {
       "model_id": "df37e4edabd94099a2ce55aa5ff1de3a",
       "version_major": 2,
       "version_minor": 0
      },
      "text/plain": [
       "  0%|          | 0/10 [00:00<?, ?it/s]"
      ]
     },
     "metadata": {},
     "output_type": "display_data"
    },
    {
     "data": {
      "application/vnd.jupyter.widget-view+json": {
       "model_id": "9ac517c818d6421b9bf71d213cbc96c2",
       "version_major": 2,
       "version_minor": 0
      },
      "text/plain": [
       "  0%|          | 0/10 [00:00<?, ?it/s]"
      ]
     },
     "metadata": {},
     "output_type": "display_data"
    }
   ],
   "source": [
    "res = []\n",
    "for measure, order in tqdm(order_dict.items()):\n",
    "    for name, (func, args) in tqdm(WEIGHTING_FUNCTIONS.items(), leave=False):\n",
    "        ens_model.set_weighting_function(func, *args)\n",
    "        res.append(\n",
    "            cross_validate_graphs(\n",
    "                graphs=graphs,\n",
    "                ordering=order,\n",
    "                labels=labels,\n",
    "                n_splits=cv_fold,\n",
    "                embedder=ens_model,\n",
    "                cls=LogisticRegression(max_iter=1000),\n",
    "                method=f\"{measure}_{name}\",\n",
    "            )\n",
    "        )"
   ]
  },
  {
   "cell_type": "code",
   "execution_count": 16,
   "metadata": {},
   "outputs": [
    {
     "data": {
      "text/html": [
       "<div>\n",
       "<style scoped>\n",
       "    .dataframe tbody tr th:only-of-type {\n",
       "        vertical-align: middle;\n",
       "    }\n",
       "\n",
       "    .dataframe tbody tr th {\n",
       "        vertical-align: top;\n",
       "    }\n",
       "\n",
       "    .dataframe thead th {\n",
       "        text-align: right;\n",
       "    }\n",
       "</style>\n",
       "<table border=\"1\" class=\"dataframe\">\n",
       "  <thead>\n",
       "    <tr style=\"text-align: right;\">\n",
       "      <th></th>\n",
       "      <th>true_label</th>\n",
       "      <th>graph_id</th>\n",
       "      <th>method</th>\n",
       "      <th>binary_prediction</th>\n",
       "      <th>fold</th>\n",
       "      <th>probability_prediction_0</th>\n",
       "      <th>probability_prediction_1</th>\n",
       "      <th>probability_prediction_2</th>\n",
       "    </tr>\n",
       "  </thead>\n",
       "  <tbody>\n",
       "    <tr>\n",
       "      <th>70</th>\n",
       "      <td>1</td>\n",
       "      <td>70</td>\n",
       "      <td>pagerank_w_mean_0.00</td>\n",
       "      <td>1</td>\n",
       "      <td>1</td>\n",
       "      <td>0.210363</td>\n",
       "      <td>0.431639</td>\n",
       "      <td>0.357998</td>\n",
       "    </tr>\n",
       "    <tr>\n",
       "      <th>7982</th>\n",
       "      <td>1</td>\n",
       "      <td>382</td>\n",
       "      <td>closeness_centrality_w_mean_0.75</td>\n",
       "      <td>1</td>\n",
       "      <td>8</td>\n",
       "      <td>0.006056</td>\n",
       "      <td>0.882360</td>\n",
       "      <td>0.111584</td>\n",
       "    </tr>\n",
       "    <tr>\n",
       "      <th>9739</th>\n",
       "      <td>1</td>\n",
       "      <td>239</td>\n",
       "      <td>closeness_centrality_p_proj_False</td>\n",
       "      <td>1</td>\n",
       "      <td>5</td>\n",
       "      <td>0.224464</td>\n",
       "      <td>0.711024</td>\n",
       "      <td>0.064512</td>\n",
       "    </tr>\n",
       "    <tr>\n",
       "      <th>12787</th>\n",
       "      <td>2</td>\n",
       "      <td>437</td>\n",
       "      <td>current_flow_closeness_centrality_w_mean_0.00</td>\n",
       "      <td>1</td>\n",
       "      <td>8</td>\n",
       "      <td>0.153023</td>\n",
       "      <td>0.443632</td>\n",
       "      <td>0.403345</td>\n",
       "    </tr>\n",
       "    <tr>\n",
       "      <th>12269</th>\n",
       "      <td>1</td>\n",
       "      <td>394</td>\n",
       "      <td>closeness_centrality_w_proj_1.00</td>\n",
       "      <td>1</td>\n",
       "      <td>8</td>\n",
       "      <td>0.001986</td>\n",
       "      <td>0.996500</td>\n",
       "      <td>0.001514</td>\n",
       "    </tr>\n",
       "    <tr>\n",
       "      <th>13497</th>\n",
       "      <td>2</td>\n",
       "      <td>197</td>\n",
       "      <td>current_flow_closeness_centrality_w_mean_0.50</td>\n",
       "      <td>2</td>\n",
       "      <td>4</td>\n",
       "      <td>0.215511</td>\n",
       "      <td>0.139345</td>\n",
       "      <td>0.645144</td>\n",
       "    </tr>\n",
       "    <tr>\n",
       "      <th>16358</th>\n",
       "      <td>1</td>\n",
       "      <td>208</td>\n",
       "      <td>current_flow_closeness_centrality_w_proj_0.00</td>\n",
       "      <td>1</td>\n",
       "      <td>4</td>\n",
       "      <td>0.157882</td>\n",
       "      <td>0.563547</td>\n",
       "      <td>0.278571</td>\n",
       "    </tr>\n",
       "    <tr>\n",
       "      <th>9280</th>\n",
       "      <td>0</td>\n",
       "      <td>255</td>\n",
       "      <td>closeness_centrality_p_proj_True</td>\n",
       "      <td>0</td>\n",
       "      <td>4</td>\n",
       "      <td>0.964122</td>\n",
       "      <td>0.035042</td>\n",
       "      <td>0.000837</td>\n",
       "    </tr>\n",
       "    <tr>\n",
       "      <th>10921</th>\n",
       "      <td>0</td>\n",
       "      <td>471</td>\n",
       "      <td>closeness_centrality_w_proj_0.25</td>\n",
       "      <td>0</td>\n",
       "      <td>9</td>\n",
       "      <td>0.846847</td>\n",
       "      <td>0.000844</td>\n",
       "      <td>0.152309</td>\n",
       "    </tr>\n",
       "    <tr>\n",
       "      <th>14798</th>\n",
       "      <td>0</td>\n",
       "      <td>73</td>\n",
       "      <td>current_flow_closeness_centrality_concat</td>\n",
       "      <td>0</td>\n",
       "      <td>1</td>\n",
       "      <td>0.769270</td>\n",
       "      <td>0.167901</td>\n",
       "      <td>0.062829</td>\n",
       "    </tr>\n",
       "    <tr>\n",
       "      <th>16641</th>\n",
       "      <td>0</td>\n",
       "      <td>16</td>\n",
       "      <td>current_flow_closeness_centrality_w_proj_0.25</td>\n",
       "      <td>0</td>\n",
       "      <td>0</td>\n",
       "      <td>0.904551</td>\n",
       "      <td>0.088783</td>\n",
       "      <td>0.006666</td>\n",
       "    </tr>\n",
       "    <tr>\n",
       "      <th>1337</th>\n",
       "      <td>2</td>\n",
       "      <td>387</td>\n",
       "      <td>pagerank_w_mean_0.50</td>\n",
       "      <td>2</td>\n",
       "      <td>7</td>\n",
       "      <td>0.230613</td>\n",
       "      <td>0.095103</td>\n",
       "      <td>0.674284</td>\n",
       "    </tr>\n",
       "    <tr>\n",
       "      <th>17521</th>\n",
       "      <td>1</td>\n",
       "      <td>421</td>\n",
       "      <td>current_flow_closeness_centrality_w_proj_0.50</td>\n",
       "      <td>1</td>\n",
       "      <td>9</td>\n",
       "      <td>0.029734</td>\n",
       "      <td>0.527825</td>\n",
       "      <td>0.442440</td>\n",
       "    </tr>\n",
       "    <tr>\n",
       "      <th>6601</th>\n",
       "      <td>1</td>\n",
       "      <td>426</td>\n",
       "      <td>closeness_centrality_w_mean_0.00</td>\n",
       "      <td>1</td>\n",
       "      <td>9</td>\n",
       "      <td>0.150439</td>\n",
       "      <td>0.447614</td>\n",
       "      <td>0.401946</td>\n",
       "    </tr>\n",
       "    <tr>\n",
       "      <th>11216</th>\n",
       "      <td>1</td>\n",
       "      <td>291</td>\n",
       "      <td>closeness_centrality_w_proj_0.50</td>\n",
       "      <td>1</td>\n",
       "      <td>6</td>\n",
       "      <td>0.302891</td>\n",
       "      <td>0.694061</td>\n",
       "      <td>0.003048</td>\n",
       "    </tr>\n",
       "  </tbody>\n",
       "</table>\n",
       "</div>"
      ],
      "text/plain": [
       "       true_label  graph_id                                         method  \\\n",
       "70              1        70                           pagerank_w_mean_0.00   \n",
       "7982            1       382               closeness_centrality_w_mean_0.75   \n",
       "9739            1       239              closeness_centrality_p_proj_False   \n",
       "12787           2       437  current_flow_closeness_centrality_w_mean_0.00   \n",
       "12269           1       394               closeness_centrality_w_proj_1.00   \n",
       "13497           2       197  current_flow_closeness_centrality_w_mean_0.50   \n",
       "16358           1       208  current_flow_closeness_centrality_w_proj_0.00   \n",
       "9280            0       255               closeness_centrality_p_proj_True   \n",
       "10921           0       471               closeness_centrality_w_proj_0.25   \n",
       "14798           0        73       current_flow_closeness_centrality_concat   \n",
       "16641           0        16  current_flow_closeness_centrality_w_proj_0.25   \n",
       "1337            2       387                           pagerank_w_mean_0.50   \n",
       "17521           1       421  current_flow_closeness_centrality_w_proj_0.50   \n",
       "6601            1       426               closeness_centrality_w_mean_0.00   \n",
       "11216           1       291               closeness_centrality_w_proj_0.50   \n",
       "\n",
       "       binary_prediction  fold  probability_prediction_0  \\\n",
       "70                     1     1                  0.210363   \n",
       "7982                   1     8                  0.006056   \n",
       "9739                   1     5                  0.224464   \n",
       "12787                  1     8                  0.153023   \n",
       "12269                  1     8                  0.001986   \n",
       "13497                  2     4                  0.215511   \n",
       "16358                  1     4                  0.157882   \n",
       "9280                   0     4                  0.964122   \n",
       "10921                  0     9                  0.846847   \n",
       "14798                  0     1                  0.769270   \n",
       "16641                  0     0                  0.904551   \n",
       "1337                   2     7                  0.230613   \n",
       "17521                  1     9                  0.029734   \n",
       "6601                   1     9                  0.150439   \n",
       "11216                  1     6                  0.302891   \n",
       "\n",
       "       probability_prediction_1  probability_prediction_2  \n",
       "70                     0.431639                  0.357998  \n",
       "7982                   0.882360                  0.111584  \n",
       "9739                   0.711024                  0.064512  \n",
       "12787                  0.443632                  0.403345  \n",
       "12269                  0.996500                  0.001514  \n",
       "13497                  0.139345                  0.645144  \n",
       "16358                  0.563547                  0.278571  \n",
       "9280                   0.035042                  0.000837  \n",
       "10921                  0.000844                  0.152309  \n",
       "14798                  0.167901                  0.062829  \n",
       "16641                  0.088783                  0.006666  \n",
       "1337                   0.095103                  0.674284  \n",
       "17521                  0.527825                  0.442440  \n",
       "6601                   0.447614                  0.401946  \n",
       "11216                  0.694061                  0.003048  "
      ]
     },
     "execution_count": 16,
     "metadata": {},
     "output_type": "execute_result"
    }
   ],
   "source": [
    "pd.concat(res, ignore_index=True).to_csv(f\"{path_to_save}results2.csv\")\n",
    "pd.read_csv(f\"{path_to_save}results2.csv\", index_col=0).sample(15)"
   ]
  }
 ],
 "metadata": {
  "kernelspec": {
   "display_name": "MLG",
   "language": "python",
   "name": "python3"
  },
  "language_info": {
   "codemirror_mode": {
    "name": "ipython",
    "version": 3
   },
   "file_extension": ".py",
   "mimetype": "text/x-python",
   "name": "python",
   "nbconvert_exporter": "python",
   "pygments_lexer": "ipython3",
   "version": "3.9.2"
  },
  "orig_nbformat": 4
 },
 "nbformat": 4,
 "nbformat_minor": 2
}
