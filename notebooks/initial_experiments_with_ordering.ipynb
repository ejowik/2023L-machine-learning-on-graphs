{
 "cells": [
  {
   "attachments": {},
   "cell_type": "markdown",
   "metadata": {},
   "source": [
    "Tak jak rozmawialiśmy to jest jedynie bardzo początkowe przejrzenie tych metod (dalej tej Doc2Vec wygląda dość dziwnie), ale przynajmniej wstępne wyniki wyglądają jakby miało to jakiekolwiek szanse zadziałać :D"
   ]
  },
  {
   "cell_type": "code",
   "execution_count": 16,
   "metadata": {},
   "outputs": [],
   "source": [
    "%load_ext autoreload\n",
    "%autoreload 2\n",
    "import sys\n",
    "sys.path.append('../')\n",
    "from src.graph2vec import OurGraph2Vec\n",
    "from ipynb.fs.full.github_stargazers import read_stargazers_dataset\n",
    "import numpy as np\n",
    "from sklearn.model_selection import train_test_split\n",
    "from sklearn.linear_model import LogisticRegression\n",
    "import networkx as nx\n",
    "import tqdm"
   ]
  },
  {
   "cell_type": "code",
   "execution_count": 6,
   "metadata": {},
   "outputs": [],
   "source": [
    "without=OurGraph2Vec(window_size=0)"
   ]
  },
  {
   "cell_type": "code",
   "execution_count": 4,
   "metadata": {},
   "outputs": [],
   "source": [
    "graphs,labels=read_stargazers_dataset(\"../datasets/github_stargazers\")"
   ]
  },
  {
   "cell_type": "code",
   "execution_count": 11,
   "metadata": {},
   "outputs": [
    {
     "name": "stderr",
     "output_type": "stream",
     "text": [
      "1659it [00:55, 30.06it/s]\n"
     ]
    },
    {
     "ename": "KeyboardInterrupt",
     "evalue": "",
     "output_type": "error",
     "traceback": [
      "\u001b[0;31m---------------------------------------------------------------------------\u001b[0m",
      "\u001b[0;31mKeyboardInterrupt\u001b[0m                         Traceback (most recent call last)",
      "Cell \u001b[0;32mIn[11], line 3\u001b[0m\n\u001b[1;32m      1\u001b[0m orderings\u001b[39m=\u001b[39m[\u001b[39mNone\u001b[39;00m]\u001b[39m*\u001b[39m\u001b[39mlen\u001b[39m(graphs)\n\u001b[1;32m      2\u001b[0m \u001b[39mfor\u001b[39;00m it,elem \u001b[39min\u001b[39;00m tqdm\u001b[39m.\u001b[39mtqdm(\u001b[39menumerate\u001b[39m(graphs)):\n\u001b[0;32m----> 3\u001b[0m     orderings[it]\u001b[39m=\u001b[39mnx\u001b[39m.\u001b[39;49mcloseness_centrality(elem)\n",
      "File \u001b[0;32m~/venvs/MLG/lib/python3.9/site-packages/networkx/algorithms/centrality/closeness.py:122\u001b[0m, in \u001b[0;36mcloseness_centrality\u001b[0;34m(G, u, distance, wf_improved)\u001b[0m\n\u001b[1;32m    120\u001b[0m closeness_dict \u001b[39m=\u001b[39m {}\n\u001b[1;32m    121\u001b[0m \u001b[39mfor\u001b[39;00m n \u001b[39min\u001b[39;00m nodes:\n\u001b[0;32m--> 122\u001b[0m     sp \u001b[39m=\u001b[39m path_length(G, n)\n\u001b[1;32m    123\u001b[0m     totsp \u001b[39m=\u001b[39m \u001b[39msum\u001b[39m(sp\u001b[39m.\u001b[39mvalues())\n\u001b[1;32m    124\u001b[0m     len_G \u001b[39m=\u001b[39m \u001b[39mlen\u001b[39m(G)\n",
      "File \u001b[0;32m~/venvs/MLG/lib/python3.9/site-packages/networkx/algorithms/shortest_paths/unweighted.py:59\u001b[0m, in \u001b[0;36msingle_source_shortest_path_length\u001b[0;34m(G, source, cutoff)\u001b[0m\n\u001b[1;32m     57\u001b[0m     cutoff \u001b[39m=\u001b[39m \u001b[39mfloat\u001b[39m(\u001b[39m\"\u001b[39m\u001b[39minf\u001b[39m\u001b[39m\"\u001b[39m)\n\u001b[1;32m     58\u001b[0m nextlevel \u001b[39m=\u001b[39m {source: \u001b[39m1\u001b[39m}\n\u001b[0;32m---> 59\u001b[0m \u001b[39mreturn\u001b[39;00m \u001b[39mdict\u001b[39;49m(_single_shortest_path_length(G\u001b[39m.\u001b[39;49madj, nextlevel, cutoff))\n",
      "File \u001b[0;32m~/venvs/MLG/lib/python3.9/site-packages/networkx/algorithms/shortest_paths/unweighted.py:91\u001b[0m, in \u001b[0;36m_single_shortest_path_length\u001b[0;34m(adj, firstlevel, cutoff)\u001b[0m\n\u001b[1;32m     89\u001b[0m         \u001b[39mreturn\u001b[39;00m\n\u001b[1;32m     90\u001b[0m     \u001b[39mfor\u001b[39;00m v \u001b[39min\u001b[39;00m found:\n\u001b[0;32m---> 91\u001b[0m         nextlevel\u001b[39m.\u001b[39mupdate(adj[v])\n\u001b[1;32m     92\u001b[0m     level \u001b[39m+\u001b[39m\u001b[39m=\u001b[39m \u001b[39m1\u001b[39m\n\u001b[1;32m     93\u001b[0m \u001b[39mdel\u001b[39;00m seen\n",
      "\u001b[0;31mKeyboardInterrupt\u001b[0m: "
     ]
    }
   ],
   "source": [
    "orderings=[None]*len(graphs)\n",
    "for it,elem in tqdm.tqdm(enumerate(graphs)):\n",
    "    orderings[it]=nx.closeness_centrality(elem)"
   ]
  },
  {
   "attachments": {},
   "cell_type": "markdown",
   "metadata": {},
   "source": [
    "za długo się liczyło więc zrobiłem tak aby móc puścić tylko na części datasetu :D"
   ]
  },
  {
   "cell_type": "code",
   "execution_count": 37,
   "metadata": {},
   "outputs": [],
   "source": [
    "# tmp123=np.array(list(orderings[1].items()))\n",
    "# ams=tmp123[:,1][tmp123[:, 0].argsort()]\n",
    "# ams.argsort()\n",
    "ams=[None]*1659\n",
    "for it,elem in enumerate(orderings[:1659]):\n",
    "    tmp1234=np.array(list(elem.items()))\n",
    "    ams[it]=tmp1234[:,1][tmp1234[:, 0].argsort()].argsort()"
   ]
  },
  {
   "cell_type": "code",
   "execution_count": 38,
   "metadata": {},
   "outputs": [],
   "source": [
    "without.fit(graphs[:1659],ordering=ams)"
   ]
  },
  {
   "cell_type": "code",
   "execution_count": 49,
   "metadata": {},
   "outputs": [],
   "source": [
    "with_dm=OurGraph2Vec(cbowlike=True)"
   ]
  },
  {
   "cell_type": "code",
   "execution_count": 52,
   "metadata": {},
   "outputs": [],
   "source": [
    "with_dm.fit(graphs[:1659],ordering=ams)"
   ]
  },
  {
   "cell_type": "code",
   "execution_count": 18,
   "metadata": {},
   "outputs": [
    {
     "data": {
      "text/plain": [
       "(1659, 128)"
      ]
     },
     "execution_count": 18,
     "metadata": {},
     "output_type": "execute_result"
    }
   ],
   "source": [
    "without.get_embedding().shape"
   ]
  },
  {
   "cell_type": "code",
   "execution_count": 53,
   "metadata": {},
   "outputs": [
    {
     "data": {
      "text/plain": [
       "(1659, 128)"
      ]
     },
     "execution_count": 53,
     "metadata": {},
     "output_type": "execute_result"
    }
   ],
   "source": [
    "with_dm.get_embedding().shape"
   ]
  },
  {
   "cell_type": "code",
   "execution_count": 58,
   "metadata": {},
   "outputs": [
    {
     "data": {
      "text/plain": [
       "0.5322483423749247"
      ]
     },
     "execution_count": 58,
     "metadata": {},
     "output_type": "execute_result"
    }
   ],
   "source": [
    "labels[:1659].mean()"
   ]
  },
  {
   "cell_type": "code",
   "execution_count": 54,
   "metadata": {},
   "outputs": [],
   "source": [
    "def create_logreg_model(embedding, get_pred=False):\n",
    "    X_train, X_test, y_train, y_test=train_test_split(embedding,labels[:1659],test_size=0.3)\n",
    "    model=LogisticRegression()\n",
    "    model.fit(X_train,y_train)\n",
    "    if get_pred:\n",
    "        return model.predict_proba(X_test),y_test\n",
    "    return 1-(np.abs(model.predict(X_test)-y_test)).mean()"
   ]
  },
  {
   "cell_type": "code",
   "execution_count": 55,
   "metadata": {},
   "outputs": [
    {
     "data": {
      "text/plain": [
       "0.5522088353413654"
      ]
     },
     "execution_count": 55,
     "metadata": {},
     "output_type": "execute_result"
    }
   ],
   "source": [
    "create_logreg_model(without.get_embedding())"
   ]
  },
  {
   "cell_type": "code",
   "execution_count": 56,
   "metadata": {},
   "outputs": [
    {
     "data": {
      "text/plain": [
       "0.5562248995983936"
      ]
     },
     "execution_count": 56,
     "metadata": {},
     "output_type": "execute_result"
    }
   ],
   "source": [
    "create_logreg_model(with_dm.get_embedding())"
   ]
  },
  {
   "cell_type": "code",
   "execution_count": 57,
   "metadata": {},
   "outputs": [
    {
     "data": {
      "text/plain": [
       "0.5542168674698795"
      ]
     },
     "execution_count": 57,
     "metadata": {},
     "output_type": "execute_result"
    }
   ],
   "source": [
    "create_logreg_model(with_dm.get_embedding()+without.get_embedding())"
   ]
  },
  {
   "cell_type": "code",
   "execution_count": 59,
   "metadata": {},
   "outputs": [],
   "source": [
    "n=1000\n",
    "without_res=[0]*n\n",
    "with_res=[0]*n\n",
    "combined_res=[0]*n\n",
    "for it in range(n):\n",
    "    without_res[it]=create_logreg_model(without.get_embedding())\n",
    "    with_res[it]=create_logreg_model(with_dm.get_embedding())\n",
    "    combined_res[it]=create_logreg_model(with_dm.get_embedding()+without.get_embedding())"
   ]
  },
  {
   "cell_type": "code",
   "execution_count": 60,
   "metadata": {},
   "outputs": [],
   "source": [
    "import seaborn as sns\n",
    "import pandas as pd"
   ]
  },
  {
   "cell_type": "code",
   "execution_count": 61,
   "metadata": {},
   "outputs": [
    {
     "data": {
      "text/plain": [
       "<AxesSubplot:>"
      ]
     },
     "execution_count": 61,
     "metadata": {},
     "output_type": "execute_result"
    },
    {
     "data": {
      "image/png": "[encoded data removed]",
      "text/plain": [
       "<Figure size 640x480 with 1 Axes>"
      ]
     },
     "metadata": {},
     "output_type": "display_data"
    }
   ],
   "source": [
    "sns.boxplot([without_res,with_res,combined_res])#,labels=[\"Skipgram\",\"CBOW\",\"Combined\"])"
   ]
  },
  {
   "cell_type": "code",
   "execution_count": null,
   "metadata": {},
   "outputs": [],
   "source": []
  }
 ],
 "metadata": {
  "kernelspec": {
   "display_name": "MLG",
   "language": "python",
   "name": "python3"
  },
  "language_info": {
   "codemirror_mode": {
    "name": "ipython",
    "version": 3
   },
   "file_extension": ".py",
   "mimetype": "text/x-python",
   "name": "python",
   "nbconvert_exporter": "python",
   "pygments_lexer": "ipython3",
   "version": "3.9.2"
  },
  "orig_nbformat": 4
 },
 "nbformat": 4,
 "nbformat_minor": 2
}
