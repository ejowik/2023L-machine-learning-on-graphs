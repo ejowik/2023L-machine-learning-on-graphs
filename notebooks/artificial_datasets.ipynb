{
 "cells": [
  {
   "cell_type": "code",
   "execution_count": 1,
   "id": "6fe707dc-b175-4862-a3b8-90cfaba710ef",
   "metadata": {},
   "outputs": [],
   "source": [
    "import networkx as nx\n",
    "from tqdm.notebook import tqdm\n",
    "import json\n",
    "from typing import List\n",
    "import os\n",
    "import glob\n",
    "import matplotlib.pyplot as plt\n",
    "import sys\n",
    "\n",
    "sys.path.append(\"../\")\n",
    "from src.utils import load_artificial, generate_orderings\n",
    "\n",
    "seed = 123"
   ]
  },
  {
   "cell_type": "code",
   "execution_count": 2,
   "id": "e9d9a2ff-7dd1-4316-96a9-c96a482d4bf8",
   "metadata": {},
   "outputs": [],
   "source": [
    "class SetEncoder(json.JSONEncoder):\n",
    "    def default(self, obj):\n",
    "        if isinstance(obj, set):\n",
    "            return list(obj)\n",
    "        return json.JSONEncoder.default(self, obj)\n",
    "\n",
    "\n",
    "def save(G, label, fpath):\n",
    "    data = nx.node_link_data(G)\n",
    "    data[\"label\"] = label\n",
    "    with open(fpath, \"w\") as f:\n",
    "        json.dump(data, f, cls=SetEncoder)\n",
    "\n",
    "\n",
    "def load(fpath):\n",
    "    data = json.load(open(fpath))\n",
    "    label = data[\"label\"]\n",
    "    del data[\"label\"]\n",
    "    G = nx.node_link_graph(data)\n",
    "    return G, label"
   ]
  },
  {
   "cell_type": "code",
   "execution_count": 3,
   "id": "ec808b90-c86c-4409-9eb6-c5b31c1a3b35",
   "metadata": {},
   "outputs": [],
   "source": [
    "def generate_random_regular_graphs(\n",
    "    degrees: List,\n",
    "    number_of_nodes,\n",
    "    graphs_per_class,\n",
    "    directory=\"../datasets/regular_graphs\",\n",
    ") -> None:\n",
    "    \"\"\"\n",
    "    This function generates balanced dataset\n",
    "    that consists of len(degrees)*number_of_graphs\n",
    "    random regular graphs.\n",
    "\n",
    "    Args:\n",
    "        degrees: a list of degrees of nodes in respectful classes\n",
    "        number_of_nodes: the number of graph vertices in all classes\n",
    "        number_of_graphs: number of graphs in each class\n",
    "        directory: output directory\n",
    "    \"\"\"\n",
    "    graphs = []\n",
    "    labels = []\n",
    "    counter = 0\n",
    "\n",
    "    if not os.path.exists(directory):\n",
    "        os.makedirs(directory)\n",
    "\n",
    "    for d, class_size in tqdm(zip(degrees, graphs_per_class)):\n",
    "        for i in tqdm(range(class_size)):\n",
    "            counter += 1\n",
    "            G = nx.random_regular_graph(d=d, n=number_of_nodes, seed=seed)\n",
    "            save(G=G, label=d, fpath=f\"{directory}/{counter}.json\")\n",
    "\n",
    "\n",
    "def generate_partition_graphs(\n",
    "    sizes: List[List],\n",
    "    p_in: float,\n",
    "    p_out: float,\n",
    "    graphs_per_class: int,\n",
    "    directory: str = \"../datasets/partition_graphs\",\n",
    ") -> None:\n",
    "    \"\"\"\n",
    "    This function generates balanced dataset\n",
    "    that consists of len(degrees)*number_of_graphs\n",
    "    random partition graphs.\n",
    "\n",
    "    Args:\n",
    "        sizes: sizes of groups\n",
    "        p_in: probability of edges within groups\n",
    "        p_out: probability of edges between groups\n",
    "        number_of_graphs: number of graphs in each class\n",
    "        directory: output directory\n",
    "    \"\"\"\n",
    "\n",
    "    assert p_in >= 0 and p_in <= 1\n",
    "    assert p_out >= 0 and p_out <= 1\n",
    "\n",
    "    graphs = []\n",
    "    labels = []\n",
    "    counter = 0\n",
    "\n",
    "    if not os.path.exists(directory):\n",
    "        os.makedirs(directory)\n",
    "\n",
    "    for s, class_size in tqdm(zip(sizes, graphs_per_class)):\n",
    "        for i in tqdm(range(class_size)):\n",
    "            counter += 1\n",
    "            G = nx.random_partition_graph(s, p_in, p_out)\n",
    "            save(G=G, label=s[0], fpath=f\"{directory}/{counter}.json\")"
   ]
  },
  {
   "cell_type": "code",
   "execution_count": 4,
   "id": "69c2744b-de7e-437f-b5a1-30d395be34ad",
   "metadata": {},
   "outputs": [
    {
     "data": {
      "application/vnd.jupyter.widget-view+json": {
       "model_id": "56d4c920ef4447f8bded4b4d8a851490",
       "version_major": 2,
       "version_minor": 0
      },
      "text/plain": [
       "0it [00:00, ?it/s]"
      ]
     },
     "metadata": {},
     "output_type": "display_data"
    },
    {
     "data": {
      "application/vnd.jupyter.widget-view+json": {
       "model_id": "3dd973f68efd4d4387572abd0c5b4a3a",
       "version_major": 2,
       "version_minor": 0
      },
      "text/plain": [
       "  0%|          | 0/105 [00:00<?, ?it/s]"
      ]
     },
     "metadata": {},
     "output_type": "display_data"
    },
    {
     "data": {
      "application/vnd.jupyter.widget-view+json": {
       "model_id": "9306a2520251441295b0e8e7093ae26e",
       "version_major": 2,
       "version_minor": 0
      },
      "text/plain": [
       "  0%|          | 0/200 [00:00<?, ?it/s]"
      ]
     },
     "metadata": {},
     "output_type": "display_data"
    },
    {
     "data": {
      "application/vnd.jupyter.widget-view+json": {
       "model_id": "ca891e3b5f944af6ab64cdfb3e40769a",
       "version_major": 2,
       "version_minor": 0
      },
      "text/plain": [
       "  0%|          | 0/170 [00:00<?, ?it/s]"
      ]
     },
     "metadata": {},
     "output_type": "display_data"
    },
    {
     "data": {
      "application/vnd.jupyter.widget-view+json": {
       "model_id": "4bf6a22d5f314f14b438f5ded9638f2d",
       "version_major": 2,
       "version_minor": 0
      },
      "text/plain": [
       "  0%|          | 0/475 [00:00<?, ?it/s]"
      ]
     },
     "metadata": {},
     "output_type": "display_data"
    },
    {
     "data": {
      "application/vnd.jupyter.widget-view+json": {
       "model_id": "66b342a1bd8d43cfbe2339be82de2ff2",
       "version_major": 2,
       "version_minor": 0
      },
      "text/plain": [
       "  0%|          | 0/3 [00:00<?, ?it/s]"
      ]
     },
     "metadata": {},
     "output_type": "display_data"
    },
    {
     "name": "stdout",
     "output_type": "stream",
     "text": [
      "Calculating pagerank...\n"
     ]
    },
    {
     "data": {
      "application/vnd.jupyter.widget-view+json": {
       "model_id": "410c1499589c4043b2020a487aa6b794",
       "version_major": 2,
       "version_minor": 0
      },
      "text/plain": [
       "  0%|          | 0/475 [00:00<?, ?it/s]"
      ]
     },
     "metadata": {},
     "output_type": "display_data"
    },
    {
     "name": "stdout",
     "output_type": "stream",
     "text": [
      "Ordering wrt. pagerank...\n"
     ]
    },
    {
     "data": {
      "application/vnd.jupyter.widget-view+json": {
       "model_id": "b63d442835294d3a8e20ac6ea925fcf3",
       "version_major": 2,
       "version_minor": 0
      },
      "text/plain": [
       "  0%|          | 0/475 [00:00<?, ?it/s]"
      ]
     },
     "metadata": {},
     "output_type": "display_data"
    },
    {
     "name": "stdout",
     "output_type": "stream",
     "text": [
      "Calculating closeness_centrality...\n"
     ]
    },
    {
     "data": {
      "application/vnd.jupyter.widget-view+json": {
       "model_id": "aec2202782d34b86bb5b48e5afa129c2",
       "version_major": 2,
       "version_minor": 0
      },
      "text/plain": [
       "  0%|          | 0/475 [00:00<?, ?it/s]"
      ]
     },
     "metadata": {},
     "output_type": "display_data"
    },
    {
     "name": "stdout",
     "output_type": "stream",
     "text": [
      "Ordering wrt. closeness_centrality...\n"
     ]
    },
    {
     "data": {
      "application/vnd.jupyter.widget-view+json": {
       "model_id": "9e6bbfcdb06d411eb2bd282fd3e5ced1",
       "version_major": 2,
       "version_minor": 0
      },
      "text/plain": [
       "  0%|          | 0/475 [00:00<?, ?it/s]"
      ]
     },
     "metadata": {},
     "output_type": "display_data"
    },
    {
     "name": "stdout",
     "output_type": "stream",
     "text": [
      "Calculating current_flow_closeness_centrality...\n"
     ]
    },
    {
     "data": {
      "application/vnd.jupyter.widget-view+json": {
       "model_id": "2c88a6f59bb442d4819e9e88481ca90e",
       "version_major": 2,
       "version_minor": 0
      },
      "text/plain": [
       "  0%|          | 0/475 [00:00<?, ?it/s]"
      ]
     },
     "metadata": {},
     "output_type": "display_data"
    },
    {
     "name": "stderr",
     "output_type": "stream",
     "text": [
      "<class 'networkx.utils.decorators.argmap'> compilation 20:4: FutureWarning: laplacian_matrix will return a scipy.sparse array instead of a matrix in Networkx 3.0.\n"
     ]
    },
    {
     "name": "stdout",
     "output_type": "stream",
     "text": [
      "Ordering wrt. current_flow_closeness_centrality...\n"
     ]
    },
    {
     "data": {
      "application/vnd.jupyter.widget-view+json": {
       "model_id": "5c87d96832124f93b77d129e54bc8dd7",
       "version_major": 2,
       "version_minor": 0
      },
      "text/plain": [
       "  0%|          | 0/475 [00:00<?, ?it/s]"
      ]
     },
     "metadata": {},
     "output_type": "display_data"
    }
   ],
   "source": [
    "# Test 1.\n",
    "generate_random_regular_graphs(\n",
    "    degrees=[5, 7, 10], number_of_nodes=80, graphs_per_class=[105, 200, 170]\n",
    ")\n",
    "\n",
    "directory = \"../datasets/regular_graphs\"\n",
    "\n",
    "graphs, labels = load_artificial(directory)\n",
    "\n",
    "generate_orderings(directory, graphs)\n",
    "\n",
    "# for fpath in tqdm(glob.glob(f\"{directory}/*.json\")):\n",
    "#     G, label = load(fpath)\n",
    "#     nx.draw(G)\n",
    "#     plt.show()"
   ]
  },
  {
   "cell_type": "code",
   "execution_count": 5,
   "id": "b0c3ca50-dd94-4815-a971-8f7501ed9de3",
   "metadata": {},
   "outputs": [
    {
     "data": {
      "application/vnd.jupyter.widget-view+json": {
       "model_id": "50597afe800e4b65a7d5931efcc4a48a",
       "version_major": 2,
       "version_minor": 0
      },
      "text/plain": [
       "0it [00:00, ?it/s]"
      ]
     },
     "metadata": {},
     "output_type": "display_data"
    },
    {
     "data": {
      "application/vnd.jupyter.widget-view+json": {
       "model_id": "f9bdfbca6c764a71ad4083ec29a9baa4",
       "version_major": 2,
       "version_minor": 0
      },
      "text/plain": [
       "  0%|          | 0/350 [00:00<?, ?it/s]"
      ]
     },
     "metadata": {},
     "output_type": "display_data"
    },
    {
     "data": {
      "application/vnd.jupyter.widget-view+json": {
       "model_id": "988026f4c6ce48a6a0f8e870efe9a038",
       "version_major": 2,
       "version_minor": 0
      },
      "text/plain": [
       "  0%|          | 0/100 [00:00<?, ?it/s]"
      ]
     },
     "metadata": {},
     "output_type": "display_data"
    },
    {
     "data": {
      "application/vnd.jupyter.widget-view+json": {
       "model_id": "29ea1914d26741faa380ef5b6f3a4cbf",
       "version_major": 2,
       "version_minor": 0
      },
      "text/plain": [
       "  0%|          | 0/450 [00:00<?, ?it/s]"
      ]
     },
     "metadata": {},
     "output_type": "display_data"
    },
    {
     "data": {
      "application/vnd.jupyter.widget-view+json": {
       "model_id": "3721dcad482e4e1cb552bc35b0e5dc4b",
       "version_major": 2,
       "version_minor": 0
      },
      "text/plain": [
       "  0%|          | 0/900 [00:00<?, ?it/s]"
      ]
     },
     "metadata": {},
     "output_type": "display_data"
    },
    {
     "data": {
      "application/vnd.jupyter.widget-view+json": {
       "model_id": "eb3f619cac544ff5986734b191b077c4",
       "version_major": 2,
       "version_minor": 0
      },
      "text/plain": [
       "  0%|          | 0/3 [00:00<?, ?it/s]"
      ]
     },
     "metadata": {},
     "output_type": "display_data"
    },
    {
     "name": "stdout",
     "output_type": "stream",
     "text": [
      "Calculating pagerank...\n"
     ]
    },
    {
     "data": {
      "application/vnd.jupyter.widget-view+json": {
       "model_id": "8cea837591a340f4a8108da9e2ca2872",
       "version_major": 2,
       "version_minor": 0
      },
      "text/plain": [
       "  0%|          | 0/900 [00:00<?, ?it/s]"
      ]
     },
     "metadata": {},
     "output_type": "display_data"
    },
    {
     "name": "stdout",
     "output_type": "stream",
     "text": [
      "Ordering wrt. pagerank...\n"
     ]
    },
    {
     "data": {
      "application/vnd.jupyter.widget-view+json": {
       "model_id": "2260e68366bc490fb3a7d510a6940a95",
       "version_major": 2,
       "version_minor": 0
      },
      "text/plain": [
       "  0%|          | 0/900 [00:00<?, ?it/s]"
      ]
     },
     "metadata": {},
     "output_type": "display_data"
    },
    {
     "name": "stdout",
     "output_type": "stream",
     "text": [
      "Calculating closeness_centrality...\n"
     ]
    },
    {
     "data": {
      "application/vnd.jupyter.widget-view+json": {
       "model_id": "4b1770cb37fb4e779ef033dc783bf045",
       "version_major": 2,
       "version_minor": 0
      },
      "text/plain": [
       "  0%|          | 0/900 [00:00<?, ?it/s]"
      ]
     },
     "metadata": {},
     "output_type": "display_data"
    },
    {
     "name": "stdout",
     "output_type": "stream",
     "text": [
      "Ordering wrt. closeness_centrality...\n"
     ]
    },
    {
     "data": {
      "application/vnd.jupyter.widget-view+json": {
       "model_id": "c6b44f20b5b44d699dadc60d565895b1",
       "version_major": 2,
       "version_minor": 0
      },
      "text/plain": [
       "  0%|          | 0/900 [00:00<?, ?it/s]"
      ]
     },
     "metadata": {},
     "output_type": "display_data"
    },
    {
     "name": "stdout",
     "output_type": "stream",
     "text": [
      "Calculating current_flow_closeness_centrality...\n"
     ]
    },
    {
     "data": {
      "application/vnd.jupyter.widget-view+json": {
       "model_id": "e07c1fd1dfc24b23ba4236eb4aa8c18b",
       "version_major": 2,
       "version_minor": 0
      },
      "text/plain": [
       "  0%|          | 0/900 [00:00<?, ?it/s]"
      ]
     },
     "metadata": {},
     "output_type": "display_data"
    },
    {
     "name": "stdout",
     "output_type": "stream",
     "text": [
      "Ordering wrt. current_flow_closeness_centrality...\n"
     ]
    },
    {
     "data": {
      "application/vnd.jupyter.widget-view+json": {
       "model_id": "3a603f3716904cf6954ef0b7b6170ea6",
       "version_major": 2,
       "version_minor": 0
      },
      "text/plain": [
       "  0%|          | 0/900 [00:00<?, ?it/s]"
      ]
     },
     "metadata": {},
     "output_type": "display_data"
    }
   ],
   "source": [
    "# Test 2.\n",
    "communities = [[2] * 30, [10] * 6, [30] * 2]\n",
    "directory = \"../datasets/partition_graphs\"\n",
    "\n",
    "generate_partition_graphs(\n",
    "    sizes=communities, p_in=0.75, p_out=0.25, graphs_per_class=[350, 100, 450]\n",
    ")\n",
    "\n",
    "graphs, labels = load_artificial(directory)\n",
    "\n",
    "generate_orderings(directory, graphs)\n",
    "\n",
    "# for fpath in tqdm(glob.glob(f\"{directory}/*.json\")):\n",
    "#     G, label = load(fpath)\n",
    "#     nx.draw(G)\n",
    "#     plt.show()"
   ]
  },
  {
   "cell_type": "code",
   "execution_count": null,
   "id": "ba841afe-e689-486a-8d80-98c2f4d6b68d",
   "metadata": {},
   "outputs": [],
   "source": []
  }
 ],
 "metadata": {
  "kernelspec": {
   "display_name": "Python 3 (ipykernel)",
   "language": "python",
   "name": "python3"
  },
  "language_info": {
   "codemirror_mode": {
    "name": "ipython",
    "version": 3
   },
   "file_extension": ".py",
   "mimetype": "text/x-python",
   "name": "python",
   "nbconvert_exporter": "python",
   "pygments_lexer": "ipython3",
   "version": "3.9.2"
  }
 },
 "nbformat": 4,
 "nbformat_minor": 5
}
