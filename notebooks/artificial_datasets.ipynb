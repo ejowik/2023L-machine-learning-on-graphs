{
 "cells": [
  {
   "cell_type": "code",
   "execution_count": 1,
   "id": "6fe707dc-b175-4862-a3b8-90cfaba710ef",
   "metadata": {},
   "outputs": [],
   "source": [
    "import networkx as nx\n",
    "from tqdm.notebook import tqdm\n",
    "import json\n",
    "from typing import List\n",
    "import os\n",
    "import glob\n",
    "import matplotlib.pyplot as plt\n",
    "import sys\n",
    "\n",
    "sys.path.append(\"../\")\n",
    "from src.utils import load_artificial, generate_orderings\n",
    "\n",
    "seed = 123"
   ]
  },
  {
   "cell_type": "code",
   "execution_count": 2,
   "id": "e9d9a2ff-7dd1-4316-96a9-c96a482d4bf8",
   "metadata": {},
   "outputs": [],
   "source": [
    "class SetEncoder(json.JSONEncoder):\n",
    "    def default(self, obj):\n",
    "        if isinstance(obj, set):\n",
    "            return list(obj)\n",
    "        return json.JSONEncoder.default(self, obj)\n",
    "\n",
    "\n",
    "def save(G, label, fpath):\n",
    "    data = nx.node_link_data(G)\n",
    "    data[\"label\"] = label\n",
    "    with open(fpath, \"w\") as f:\n",
    "        json.dump(data, f, cls=SetEncoder)\n",
    "\n",
    "\n",
    "def load(fpath):\n",
    "    data = json.load(open(fpath))\n",
    "    label = data[\"label\"]\n",
    "    del data[\"label\"]\n",
    "    G = nx.node_link_graph(data)\n",
    "    return G, label"
   ]
  },
  {
   "cell_type": "code",
   "execution_count": 3,
   "id": "ec808b90-c86c-4409-9eb6-c5b31c1a3b35",
   "metadata": {},
   "outputs": [],
   "source": [
    "def generate_random_regular_graphs(\n",
    "    degrees: List,\n",
    "    number_of_nodes,\n",
    "    graphs_per_class,\n",
    "    directory=\"../datasets/regular_graphs\",\n",
    ") -> None:\n",
    "    \"\"\"\n",
    "    This function generates balanced dataset\n",
    "    that consists of len(degrees)*number_of_graphs\n",
    "    random regular graphs.\n",
    "\n",
    "    Args:\n",
    "        degrees: a list of degrees of nodes in respectful classes\n",
    "        number_of_nodes: the number of graph vertices in all classes\n",
    "        number_of_graphs: number of graphs in each class\n",
    "        directory: output directory\n",
    "    \"\"\"\n",
    "    graphs = []\n",
    "    labels = []\n",
    "    counter = 0\n",
    "\n",
    "    if not os.path.exists(directory):\n",
    "        os.makedirs(directory)\n",
    "\n",
    "    for it,(d, class_size) in tqdm(enumerate(zip(degrees, graphs_per_class)),total=len(degrees)):\n",
    "        for _ in tqdm(range(class_size)):\n",
    "            counter += 1\n",
    "            G = nx.random_regular_graph(d=d, n=number_of_nodes, seed=seed)\n",
    "            save(G=G, label=it, fpath=f\"{directory}/{counter}.json\")\n",
    "\n",
    "\n",
    "def generate_partition_graphs(\n",
    "    sizes: List[List],\n",
    "    p_in: float,\n",
    "    p_out: float,\n",
    "    graphs_per_class: int,\n",
    "    directory: str = \"../datasets/partition_graphs\",\n",
    ") -> None:\n",
    "    \"\"\"\n",
    "    This function generates balanced dataset\n",
    "    that consists of len(degrees)*number_of_graphs\n",
    "    random partition graphs.\n",
    "\n",
    "    Args:\n",
    "        sizes: sizes of groups\n",
    "        p_in: probability of edges within groups\n",
    "        p_out: probability of edges between groups\n",
    "        number_of_graphs: number of graphs in each class\n",
    "        directory: output directory\n",
    "    \"\"\"\n",
    "\n",
    "    assert p_in >= 0 and p_in <= 1\n",
    "    assert p_out >= 0 and p_out <= 1\n",
    "\n",
    "    graphs = []\n",
    "    labels = []\n",
    "    counter = 0\n",
    "\n",
    "    if not os.path.exists(directory):\n",
    "        os.makedirs(directory)\n",
    "\n",
    "    for it,(s, class_size) in tqdm(enumerate(zip(sizes, graphs_per_class)),total=len(sizes)):\n",
    "        for i in tqdm(range(class_size)):\n",
    "            counter += 1\n",
    "            G = nx.random_partition_graph(s, p_in, p_out)\n",
    "            save(G=G, label=it, fpath=f\"{directory}/{counter}.json\")"
   ]
  },
  {
   "cell_type": "code",
   "execution_count": 4,
   "id": "69c2744b-de7e-437f-b5a1-30d395be34ad",
   "metadata": {},
   "outputs": [
    {
     "data": {
      "application/vnd.jupyter.widget-view+json": {
       "model_id": "7a0697bcc695461dbaf5cdb0e28925c5",
       "version_major": 2,
       "version_minor": 0
      },
      "text/plain": [
       "  0%|          | 0/3 [00:00<?, ?it/s]"
      ]
     },
     "metadata": {},
     "output_type": "display_data"
    },
    {
     "data": {
      "application/vnd.jupyter.widget-view+json": {
       "model_id": "4cc0891d479247d6b4305a3c7e96fa47",
       "version_major": 2,
       "version_minor": 0
      },
      "text/plain": [
       "  0%|          | 0/105 [00:00<?, ?it/s]"
      ]
     },
     "metadata": {},
     "output_type": "display_data"
    },
    {
     "data": {
      "application/vnd.jupyter.widget-view+json": {
       "model_id": "5eca9de2e76948b3adf74c71d0668199",
       "version_major": 2,
       "version_minor": 0
      },
      "text/plain": [
       "  0%|          | 0/200 [00:00<?, ?it/s]"
      ]
     },
     "metadata": {},
     "output_type": "display_data"
    },
    {
     "data": {
      "application/vnd.jupyter.widget-view+json": {
       "model_id": "5dd385c0fca046cdb61fa0a15f920d2c",
       "version_major": 2,
       "version_minor": 0
      },
      "text/plain": [
       "  0%|          | 0/170 [00:00<?, ?it/s]"
      ]
     },
     "metadata": {},
     "output_type": "display_data"
    },
    {
     "data": {
      "application/vnd.jupyter.widget-view+json": {
       "model_id": "756185686f2249e88fe2c3bb1f7d7f29",
       "version_major": 2,
       "version_minor": 0
      },
      "text/plain": [
       "  0%|          | 0/475 [00:00<?, ?it/s]"
      ]
     },
     "metadata": {},
     "output_type": "display_data"
    },
    {
     "data": {
      "application/vnd.jupyter.widget-view+json": {
       "model_id": "3899081c1849434ab86f9a54c5eb9707",
       "version_major": 2,
       "version_minor": 0
      },
      "text/plain": [
       "  0%|          | 0/3 [00:00<?, ?it/s]"
      ]
     },
     "metadata": {},
     "output_type": "display_data"
    },
    {
     "name": "stdout",
     "output_type": "stream",
     "text": [
      "Calculating pagerank...\n"
     ]
    },
    {
     "data": {
      "application/vnd.jupyter.widget-view+json": {
       "model_id": "8cc7f337c32c42fc9181c683186dd4a4",
       "version_major": 2,
       "version_minor": 0
      },
      "text/plain": [
       "  0%|          | 0/475 [00:00<?, ?it/s]"
      ]
     },
     "metadata": {},
     "output_type": "display_data"
    },
    {
     "name": "stdout",
     "output_type": "stream",
     "text": [
      "Ordering wrt. pagerank...\n"
     ]
    },
    {
     "data": {
      "application/vnd.jupyter.widget-view+json": {
       "model_id": "a4db7c4a88994ed4834cf66897b5f1f0",
       "version_major": 2,
       "version_minor": 0
      },
      "text/plain": [
       "  0%|          | 0/475 [00:00<?, ?it/s]"
      ]
     },
     "metadata": {},
     "output_type": "display_data"
    },
    {
     "name": "stdout",
     "output_type": "stream",
     "text": [
      "Calculating closeness_centrality...\n"
     ]
    },
    {
     "data": {
      "application/vnd.jupyter.widget-view+json": {
       "model_id": "9e835280cdb44882a0c1b4e2095fe589",
       "version_major": 2,
       "version_minor": 0
      },
      "text/plain": [
       "  0%|          | 0/475 [00:00<?, ?it/s]"
      ]
     },
     "metadata": {},
     "output_type": "display_data"
    },
    {
     "name": "stdout",
     "output_type": "stream",
     "text": [
      "Ordering wrt. closeness_centrality...\n"
     ]
    },
    {
     "data": {
      "application/vnd.jupyter.widget-view+json": {
       "model_id": "7edab7d244824ca8a968f708647b0f5c",
       "version_major": 2,
       "version_minor": 0
      },
      "text/plain": [
       "  0%|          | 0/475 [00:00<?, ?it/s]"
      ]
     },
     "metadata": {},
     "output_type": "display_data"
    },
    {
     "name": "stdout",
     "output_type": "stream",
     "text": [
      "Calculating current_flow_closeness_centrality...\n"
     ]
    },
    {
     "data": {
      "application/vnd.jupyter.widget-view+json": {
       "model_id": "03832cd384c544599df5cd632325125f",
       "version_major": 2,
       "version_minor": 0
      },
      "text/plain": [
       "  0%|          | 0/475 [00:00<?, ?it/s]"
      ]
     },
     "metadata": {},
     "output_type": "display_data"
    },
    {
     "name": "stderr",
     "output_type": "stream",
     "text": [
      "<class 'networkx.utils.decorators.argmap'> compilation 20:4: FutureWarning: laplacian_matrix will return a scipy.sparse array instead of a matrix in Networkx 3.0.\n"
     ]
    },
    {
     "name": "stdout",
     "output_type": "stream",
     "text": [
      "Ordering wrt. current_flow_closeness_centrality...\n"
     ]
    },
    {
     "data": {
      "application/vnd.jupyter.widget-view+json": {
       "model_id": "9a4bc4f70ba94bb8b639b1fc9df84538",
       "version_major": 2,
       "version_minor": 0
      },
      "text/plain": [
       "  0%|          | 0/475 [00:00<?, ?it/s]"
      ]
     },
     "metadata": {},
     "output_type": "display_data"
    }
   ],
   "source": [
    "# Test 1.\n",
    "generate_random_regular_graphs(\n",
    "    degrees=[5, 7, 10], number_of_nodes=80, graphs_per_class=[105, 200, 170]\n",
    ")\n",
    "\n",
    "directory = \"../datasets/regular_graphs\"\n",
    "\n",
    "graphs, labels = load_artificial(directory)\n",
    "\n",
    "generate_orderings(directory, graphs)\n",
    "\n",
    "# for fpath in tqdm(glob.glob(f\"{directory}/*.json\")):\n",
    "#     G, label = load(fpath)\n",
    "#     nx.draw(G)\n",
    "#     plt.show()"
   ]
  },
  {
   "cell_type": "code",
   "execution_count": 5,
   "id": "b0c3ca50-dd94-4815-a971-8f7501ed9de3",
   "metadata": {},
   "outputs": [
    {
     "data": {
      "application/vnd.jupyter.widget-view+json": {
       "model_id": "26771f8aef18415f89e4de9fdcd5440c",
       "version_major": 2,
       "version_minor": 0
      },
      "text/plain": [
       "  0%|          | 0/3 [00:00<?, ?it/s]"
      ]
     },
     "metadata": {},
     "output_type": "display_data"
    },
    {
     "data": {
      "application/vnd.jupyter.widget-view+json": {
       "model_id": "2825bc5d91b44e179a6b897d99a79384",
       "version_major": 2,
       "version_minor": 0
      },
      "text/plain": [
       "  0%|          | 0/350 [00:00<?, ?it/s]"
      ]
     },
     "metadata": {},
     "output_type": "display_data"
    },
    {
     "data": {
      "application/vnd.jupyter.widget-view+json": {
       "model_id": "ef8974d438f6499382ee06b6bb8b11c9",
       "version_major": 2,
       "version_minor": 0
      },
      "text/plain": [
       "  0%|          | 0/100 [00:00<?, ?it/s]"
      ]
     },
     "metadata": {},
     "output_type": "display_data"
    },
    {
     "data": {
      "application/vnd.jupyter.widget-view+json": {
       "model_id": "dc8b1cb79f694740ba3e64536e61960f",
       "version_major": 2,
       "version_minor": 0
      },
      "text/plain": [
       "  0%|          | 0/450 [00:00<?, ?it/s]"
      ]
     },
     "metadata": {},
     "output_type": "display_data"
    },
    {
     "data": {
      "application/vnd.jupyter.widget-view+json": {
       "model_id": "21a34e3af1814917a015d0e1fdef902e",
       "version_major": 2,
       "version_minor": 0
      },
      "text/plain": [
       "  0%|          | 0/900 [00:00<?, ?it/s]"
      ]
     },
     "metadata": {},
     "output_type": "display_data"
    },
    {
     "data": {
      "application/vnd.jupyter.widget-view+json": {
       "model_id": "1956958aa7384121b12dead301167be4",
       "version_major": 2,
       "version_minor": 0
      },
      "text/plain": [
       "  0%|          | 0/3 [00:00<?, ?it/s]"
      ]
     },
     "metadata": {},
     "output_type": "display_data"
    },
    {
     "name": "stdout",
     "output_type": "stream",
     "text": [
      "Calculating pagerank...\n"
     ]
    },
    {
     "data": {
      "application/vnd.jupyter.widget-view+json": {
       "model_id": "68790abc32fb4466aaa5f6f26be9c944",
       "version_major": 2,
       "version_minor": 0
      },
      "text/plain": [
       "  0%|          | 0/900 [00:00<?, ?it/s]"
      ]
     },
     "metadata": {},
     "output_type": "display_data"
    },
    {
     "name": "stdout",
     "output_type": "stream",
     "text": [
      "Ordering wrt. pagerank...\n"
     ]
    },
    {
     "data": {
      "application/vnd.jupyter.widget-view+json": {
       "model_id": "31729ebdeac64016af3e3181e9626d58",
       "version_major": 2,
       "version_minor": 0
      },
      "text/plain": [
       "  0%|          | 0/900 [00:00<?, ?it/s]"
      ]
     },
     "metadata": {},
     "output_type": "display_data"
    },
    {
     "name": "stdout",
     "output_type": "stream",
     "text": [
      "Calculating closeness_centrality...\n"
     ]
    },
    {
     "data": {
      "application/vnd.jupyter.widget-view+json": {
       "model_id": "fa9d1a73b8184e7c8729e0b12a2cd028",
       "version_major": 2,
       "version_minor": 0
      },
      "text/plain": [
       "  0%|          | 0/900 [00:00<?, ?it/s]"
      ]
     },
     "metadata": {},
     "output_type": "display_data"
    },
    {
     "name": "stdout",
     "output_type": "stream",
     "text": [
      "Ordering wrt. closeness_centrality...\n"
     ]
    },
    {
     "data": {
      "application/vnd.jupyter.widget-view+json": {
       "model_id": "014ca08db6a94c899d86bafe77574f6c",
       "version_major": 2,
       "version_minor": 0
      },
      "text/plain": [
       "  0%|          | 0/900 [00:00<?, ?it/s]"
      ]
     },
     "metadata": {},
     "output_type": "display_data"
    },
    {
     "name": "stdout",
     "output_type": "stream",
     "text": [
      "Calculating current_flow_closeness_centrality...\n"
     ]
    },
    {
     "data": {
      "application/vnd.jupyter.widget-view+json": {
       "model_id": "6721113f086d4737bdcdd17166243970",
       "version_major": 2,
       "version_minor": 0
      },
      "text/plain": [
       "  0%|          | 0/900 [00:00<?, ?it/s]"
      ]
     },
     "metadata": {},
     "output_type": "display_data"
    },
    {
     "name": "stdout",
     "output_type": "stream",
     "text": [
      "Ordering wrt. current_flow_closeness_centrality...\n"
     ]
    },
    {
     "data": {
      "application/vnd.jupyter.widget-view+json": {
       "model_id": "bb9ab0ee54624ce0ab5a58f040bd3681",
       "version_major": 2,
       "version_minor": 0
      },
      "text/plain": [
       "  0%|          | 0/900 [00:00<?, ?it/s]"
      ]
     },
     "metadata": {},
     "output_type": "display_data"
    }
   ],
   "source": [
    "# Test 2.\n",
    "communities = [[2] * 30, [10] * 6, [30] * 2]\n",
    "directory = \"../datasets/partition_graphs\"\n",
    "\n",
    "generate_partition_graphs(\n",
    "    sizes=communities, p_in=0.75, p_out=0.25, graphs_per_class=[350, 100, 450]\n",
    ")\n",
    "\n",
    "graphs, labels = load_artificial(directory)\n",
    "\n",
    "generate_orderings(directory, graphs)\n",
    "\n",
    "# for fpath in tqdm(glob.glob(f\"{directory}/*.json\")):\n",
    "#     G, label = load(fpath)\n",
    "#     nx.draw(G)\n",
    "#     plt.show()"
   ]
  },
  {
   "cell_type": "code",
   "execution_count": null,
   "id": "ba841afe-e689-486a-8d80-98c2f4d6b68d",
   "metadata": {},
   "outputs": [],
   "source": []
  }
 ],
 "metadata": {
  "kernelspec": {
   "display_name": "Python 3 (ipykernel)",
   "language": "python",
   "name": "python3"
  },
  "language_info": {
   "codemirror_mode": {
    "name": "ipython",
    "version": 3
   },
   "file_extension": ".py",
   "mimetype": "text/x-python",
   "name": "python",
   "nbconvert_exporter": "python",
   "pygments_lexer": "ipython3",
   "version": "3.9.2"
  }
 },
 "nbformat": 4,
 "nbformat_minor": 5
}
