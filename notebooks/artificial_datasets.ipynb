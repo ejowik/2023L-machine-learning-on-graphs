{
 "cells": [
  {
   "cell_type": "code",
   "execution_count": 1,
   "id": "6fe707dc-b175-4862-a3b8-90cfaba710ef",
   "metadata": {},
   "outputs": [],
   "source": [
    "import networkx as nx\n",
    "from tqdm.notebook import tqdm\n",
    "import json\n",
    "from typing import List\n",
    "import os\n",
    "import glob\n",
    "import matplotlib.pyplot as plt\n",
    "import sys\n",
    "\n",
    "sys.path.append(\"../\")\n",
    "from src.utils import load_artificial, generate_orderings\n",
    "\n",
    "seed = 123"
   ]
  },
  {
   "cell_type": "code",
   "execution_count": 2,
   "id": "e9d9a2ff-7dd1-4316-96a9-c96a482d4bf8",
   "metadata": {},
   "outputs": [],
   "source": [
    "class SetEncoder(json.JSONEncoder):\n",
    "    def default(self, obj):\n",
    "        if isinstance(obj, set):\n",
    "            return list(obj)\n",
    "        return json.JSONEncoder.default(self, obj)\n",
    "\n",
    "\n",
    "def save(G, label, fpath):\n",
    "    data = nx.node_link_data(G)\n",
    "    data[\"label\"] = label\n",
    "    with open(fpath, \"w\") as f:\n",
    "        json.dump(data, f, cls=SetEncoder)\n",
    "\n",
    "\n",
    "def load(fpath):\n",
    "    data = json.load(open(fpath))\n",
    "    label = data[\"label\"]\n",
    "    del data[\"label\"]\n",
    "    G = nx.node_link_graph(data)\n",
    "    return G, label"
   ]
  },
  {
   "cell_type": "code",
   "execution_count": 3,
   "id": "ec808b90-c86c-4409-9eb6-c5b31c1a3b35",
   "metadata": {},
   "outputs": [],
   "source": [
    "def generate_random_regular_graphs(\n",
    "    degrees: List,\n",
    "    number_of_nodes,\n",
    "    graphs_per_class,\n",
    "    directory=\"../datasets/regular_graphs\",\n",
    ") -> None:\n",
    "    \"\"\"\n",
    "    This function generates balanced dataset\n",
    "    that consists of len(degrees)*number_of_graphs\n",
    "    random regular graphs.\n",
    "\n",
    "    Args:\n",
    "        degrees: a list of degrees of nodes in respectful classes\n",
    "        number_of_nodes: the number of graph vertices in all classes\n",
    "        number_of_graphs: number of graphs in each class\n",
    "        directory: output directory\n",
    "    \"\"\"\n",
    "    graphs = []\n",
    "    labels = []\n",
    "    counter = 0\n",
    "\n",
    "    if not os.path.exists(directory):\n",
    "        os.makedirs(directory)\n",
    "\n",
    "    for d, class_size in tqdm(zip(degrees, graphs_per_class)):\n",
    "        for i in tqdm(range(class_size)):\n",
    "            counter += 1\n",
    "            G = nx.random_regular_graph(d=d, n=number_of_nodes, seed=seed)\n",
    "            save(G=G, label=d, fpath=f\"{directory}/{counter}.json\")\n",
    "\n",
    "\n",
    "def generate_partition_graphs(\n",
    "    sizes: List[List],\n",
    "    p_in: float,\n",
    "    p_out: float,\n",
    "    graphs_per_class: int,\n",
    "    directory: str = \"../datasets/partition_graphs\",\n",
    ") -> None:\n",
    "    \"\"\"\n",
    "    This function generates balanced dataset\n",
    "    that consists of len(degrees)*number_of_graphs\n",
    "    random partition graphs.\n",
    "\n",
    "    Args:\n",
    "        sizes: sizes of groups\n",
    "        p_in: probability of edges within groups\n",
    "        p_out: probability of edges between groups\n",
    "        number_of_graphs: number of graphs in each class\n",
    "        directory: output directory\n",
    "    \"\"\"\n",
    "\n",
    "    assert p_in >= 0 and p_in <= 1\n",
    "    assert p_out >= 0 and p_out <= 1\n",
    "\n",
    "    graphs = []\n",
    "    labels = []\n",
    "    counter = 0\n",
    "\n",
    "    if not os.path.exists(directory):\n",
    "        os.makedirs(directory)\n",
    "\n",
    "    for s, class_size in tqdm(zip(sizes, graphs_per_class)):\n",
    "        for i in tqdm(range(class_size)):\n",
    "            counter += 1\n",
    "            G = nx.random_partition_graph(s, p_in, p_out)\n",
    "            save(G=G, label=s[0], fpath=f\"{directory}/{counter}.json\")"
   ]
  },
  {
   "cell_type": "code",
   "execution_count": 4,
   "id": "69c2744b-de7e-437f-b5a1-30d395be34ad",
   "metadata": {},
   "outputs": [
    {
     "data": {
      "application/vnd.jupyter.widget-view+json": {
       "model_id": "d4231a3cbad243caab3c130f3bd3259a",
       "version_major": 2,
       "version_minor": 0
      },
      "text/plain": [
       "0it [00:00, ?it/s]"
      ]
     },
     "metadata": {},
     "output_type": "display_data"
    },
    {
     "data": {
      "application/vnd.jupyter.widget-view+json": {
       "model_id": "69e59f89df6b4fe0a9948882b5b042e0",
       "version_major": 2,
       "version_minor": 0
      },
      "text/plain": [
       "  0%|          | 0/105 [00:00<?, ?it/s]"
      ]
     },
     "metadata": {},
     "output_type": "display_data"
    },
    {
     "data": {
      "application/vnd.jupyter.widget-view+json": {
       "model_id": "8813f7b20de043a699c747e32cc2a782",
       "version_major": 2,
       "version_minor": 0
      },
      "text/plain": [
       "  0%|          | 0/200 [00:00<?, ?it/s]"
      ]
     },
     "metadata": {},
     "output_type": "display_data"
    },
    {
     "data": {
      "application/vnd.jupyter.widget-view+json": {
       "model_id": "6310c73f36a1405ba6b253242e8c169b",
       "version_major": 2,
       "version_minor": 0
      },
      "text/plain": [
       "  0%|          | 0/170 [00:00<?, ?it/s]"
      ]
     },
     "metadata": {},
     "output_type": "display_data"
    },
    {
     "data": {
      "application/vnd.jupyter.widget-view+json": {
       "model_id": "732d75a01d90491c9adaac13219d7749",
       "version_major": 2,
       "version_minor": 0
      },
      "text/plain": [
       "  0%|          | 0/475 [00:00<?, ?it/s]"
      ]
     },
     "metadata": {},
     "output_type": "display_data"
    },
    {
     "data": {
      "application/vnd.jupyter.widget-view+json": {
       "model_id": "df1efb6060704d21be02788031494cc9",
       "version_major": 2,
       "version_minor": 0
      },
      "text/plain": [
       "  0%|          | 0/3 [00:00<?, ?it/s]"
      ]
     },
     "metadata": {},
     "output_type": "display_data"
    },
    {
     "name": "stdout",
     "output_type": "stream",
     "text": [
      "Calculating pagerank...\n"
     ]
    },
    {
     "data": {
      "application/vnd.jupyter.widget-view+json": {
       "model_id": "71fc1681c346454ba686200d484b41cc",
       "version_major": 2,
       "version_minor": 0
      },
      "text/plain": [
       "  0%|          | 0/475 [00:00<?, ?it/s]"
      ]
     },
     "metadata": {},
     "output_type": "display_data"
    },
    {
     "name": "stdout",
     "output_type": "stream",
     "text": [
      "Ordering wrt. pagerank...\n"
     ]
    },
    {
     "data": {
      "application/vnd.jupyter.widget-view+json": {
       "model_id": "09d0187dcacf48f1a66623dc82282089",
       "version_major": 2,
       "version_minor": 0
      },
      "text/plain": [
       "  0%|          | 0/475 [00:00<?, ?it/s]"
      ]
     },
     "metadata": {},
     "output_type": "display_data"
    },
    {
     "name": "stdout",
     "output_type": "stream",
     "text": [
      "Calculating closeness_centrality...\n"
     ]
    },
    {
     "data": {
      "application/vnd.jupyter.widget-view+json": {
       "model_id": "c29d6d9fed604912bbb29f8b21fc3cfd",
       "version_major": 2,
       "version_minor": 0
      },
      "text/plain": [
       "  0%|          | 0/475 [00:00<?, ?it/s]"
      ]
     },
     "metadata": {},
     "output_type": "display_data"
    },
    {
     "name": "stdout",
     "output_type": "stream",
     "text": [
      "Ordering wrt. closeness_centrality...\n"
     ]
    },
    {
     "data": {
      "application/vnd.jupyter.widget-view+json": {
       "model_id": "86de7131eb7c4a85a137a500511a66f5",
       "version_major": 2,
       "version_minor": 0
      },
      "text/plain": [
       "  0%|          | 0/475 [00:00<?, ?it/s]"
      ]
     },
     "metadata": {},
     "output_type": "display_data"
    },
    {
     "name": "stdout",
     "output_type": "stream",
     "text": [
      "Calculating current_flow_closeness_centrality...\n"
     ]
    },
    {
     "data": {
      "application/vnd.jupyter.widget-view+json": {
       "model_id": "1c1a487df39144e09887130e5d01f4f5",
       "version_major": 2,
       "version_minor": 0
      },
      "text/plain": [
       "  0%|          | 0/475 [00:00<?, ?it/s]"
      ]
     },
     "metadata": {},
     "output_type": "display_data"
    },
    {
     "name": "stderr",
     "output_type": "stream",
     "text": [
      "<class 'networkx.utils.decorators.argmap'> compilation 20:4: FutureWarning: laplacian_matrix will return a scipy.sparse array instead of a matrix in Networkx 3.0.\n"
     ]
    },
    {
     "name": "stdout",
     "output_type": "stream",
     "text": [
      "Ordering wrt. current_flow_closeness_centrality...\n"
     ]
    },
    {
     "data": {
      "application/vnd.jupyter.widget-view+json": {
       "model_id": "71924cbc473f495cb9d7a2a5fc5d6969",
       "version_major": 2,
       "version_minor": 0
      },
      "text/plain": [
       "  0%|          | 0/475 [00:00<?, ?it/s]"
      ]
     },
     "metadata": {},
     "output_type": "display_data"
    }
   ],
   "source": [
    "# Test 1.\n",
    "generate_random_regular_graphs(\n",
    "    degrees=[5, 7, 10], number_of_nodes=80, graphs_per_class=[105, 200, 170]\n",
    ")\n",
    "\n",
    "directory = \"../datasets/regular_graphs\"\n",
    "\n",
    "graphs, labels = load_artificial(directory)\n",
    "\n",
    "generate_orderings(directory, graphs)\n",
    "\n",
    "# for fpath in tqdm(glob.glob(f\"{directory}/*.json\")):\n",
    "#     G, label = load(fpath)\n",
    "#     nx.draw(G)\n",
    "#     plt.show()"
   ]
  },
  {
   "cell_type": "code",
   "execution_count": 5,
   "id": "b0c3ca50-dd94-4815-a971-8f7501ed9de3",
   "metadata": {},
   "outputs": [
    {
     "data": {
      "application/vnd.jupyter.widget-view+json": {
       "model_id": "5391d8c484524d1595ddd5c0f380b9f0",
       "version_major": 2,
       "version_minor": 0
      },
      "text/plain": [
       "0it [00:00, ?it/s]"
      ]
     },
     "metadata": {},
     "output_type": "display_data"
    },
    {
     "data": {
      "application/vnd.jupyter.widget-view+json": {
       "model_id": "754ac7aa88724f1393cd4f462b3e2add",
       "version_major": 2,
       "version_minor": 0
      },
      "text/plain": [
       "  0%|          | 0/350 [00:00<?, ?it/s]"
      ]
     },
     "metadata": {},
     "output_type": "display_data"
    },
    {
     "data": {
      "application/vnd.jupyter.widget-view+json": {
       "model_id": "9e7463ada8c74f07a1a45b5987a509cc",
       "version_major": 2,
       "version_minor": 0
      },
      "text/plain": [
       "  0%|          | 0/100 [00:00<?, ?it/s]"
      ]
     },
     "metadata": {},
     "output_type": "display_data"
    },
    {
     "data": {
      "application/vnd.jupyter.widget-view+json": {
       "model_id": "cc092320de7641828bdea7046156fa74",
       "version_major": 2,
       "version_minor": 0
      },
      "text/plain": [
       "  0%|          | 0/450 [00:00<?, ?it/s]"
      ]
     },
     "metadata": {},
     "output_type": "display_data"
    },
    {
     "data": {
      "application/vnd.jupyter.widget-view+json": {
       "model_id": "4f602c58b1544ed68b727a3adb495c52",
       "version_major": 2,
       "version_minor": 0
      },
      "text/plain": [
       "  0%|          | 0/900 [00:00<?, ?it/s]"
      ]
     },
     "metadata": {},
     "output_type": "display_data"
    },
    {
     "data": {
      "application/vnd.jupyter.widget-view+json": {
       "model_id": "7bcb9130062b4bda8dde85c1b2db9a21",
       "version_major": 2,
       "version_minor": 0
      },
      "text/plain": [
       "  0%|          | 0/3 [00:00<?, ?it/s]"
      ]
     },
     "metadata": {},
     "output_type": "display_data"
    },
    {
     "name": "stdout",
     "output_type": "stream",
     "text": [
      "Calculating pagerank...\n"
     ]
    },
    {
     "data": {
      "application/vnd.jupyter.widget-view+json": {
       "model_id": "a45963d6b5fa49a38cd4e342be90c85d",
       "version_major": 2,
       "version_minor": 0
      },
      "text/plain": [
       "  0%|          | 0/900 [00:00<?, ?it/s]"
      ]
     },
     "metadata": {},
     "output_type": "display_data"
    },
    {
     "name": "stdout",
     "output_type": "stream",
     "text": [
      "Ordering wrt. pagerank...\n"
     ]
    },
    {
     "data": {
      "application/vnd.jupyter.widget-view+json": {
       "model_id": "01fc1f26a5874f92aba26b23c118996f",
       "version_major": 2,
       "version_minor": 0
      },
      "text/plain": [
       "  0%|          | 0/900 [00:00<?, ?it/s]"
      ]
     },
     "metadata": {},
     "output_type": "display_data"
    },
    {
     "name": "stdout",
     "output_type": "stream",
     "text": [
      "Calculating closeness_centrality...\n"
     ]
    },
    {
     "data": {
      "application/vnd.jupyter.widget-view+json": {
       "model_id": "44a8b306754b40f8987a2589b011d6e9",
       "version_major": 2,
       "version_minor": 0
      },
      "text/plain": [
       "  0%|          | 0/900 [00:00<?, ?it/s]"
      ]
     },
     "metadata": {},
     "output_type": "display_data"
    },
    {
     "name": "stdout",
     "output_type": "stream",
     "text": [
      "Ordering wrt. closeness_centrality...\n"
     ]
    },
    {
     "data": {
      "application/vnd.jupyter.widget-view+json": {
       "model_id": "c18203cc410f46f8b3c0c1b36db3679b",
       "version_major": 2,
       "version_minor": 0
      },
      "text/plain": [
       "  0%|          | 0/900 [00:00<?, ?it/s]"
      ]
     },
     "metadata": {},
     "output_type": "display_data"
    },
    {
     "name": "stdout",
     "output_type": "stream",
     "text": [
      "Calculating current_flow_closeness_centrality...\n"
     ]
    },
    {
     "data": {
      "application/vnd.jupyter.widget-view+json": {
       "model_id": "95d587d79f484b57ad17f780a0f67ef9",
       "version_major": 2,
       "version_minor": 0
      },
      "text/plain": [
       "  0%|          | 0/900 [00:00<?, ?it/s]"
      ]
     },
     "metadata": {},
     "output_type": "display_data"
    },
    {
     "name": "stdout",
     "output_type": "stream",
     "text": [
      "Ordering wrt. current_flow_closeness_centrality...\n"
     ]
    },
    {
     "data": {
      "application/vnd.jupyter.widget-view+json": {
       "model_id": "ed8e0b6d05d74127913a91869ff8e23a",
       "version_major": 2,
       "version_minor": 0
      },
      "text/plain": [
       "  0%|          | 0/900 [00:00<?, ?it/s]"
      ]
     },
     "metadata": {},
     "output_type": "display_data"
    }
   ],
   "source": [
    "# Test 2.\n",
    "communities = [[2] * 30, [10] * 6, [30] * 2]\n",
    "directory = \"../datasets/partition_graphs\"\n",
    "\n",
    "generate_partition_graphs(\n",
    "    sizes=communities, p_in=0.65, p_out=0.3, graphs_per_class=[350, 100, 450]\n",
    ")\n",
    "\n",
    "graphs, labels = load_artificial(directory)\n",
    "\n",
    "generate_orderings(directory, graphs)\n",
    "\n",
    "# for fpath in tqdm(glob.glob(f\"{directory}/*.json\")):\n",
    "#     G, label = load(fpath)\n",
    "#     nx.draw(G)\n",
    "#     plt.show()"
   ]
  },
  {
   "cell_type": "code",
   "execution_count": null,
   "id": "ba841afe-e689-486a-8d80-98c2f4d6b68d",
   "metadata": {},
   "outputs": [],
   "source": []
  }
 ],
 "metadata": {
  "kernelspec": {
   "display_name": "Python 3 (ipykernel)",
   "language": "python",
   "name": "python3"
  },
  "language_info": {
   "codemirror_mode": {
    "name": "ipython",
    "version": 3
   },
   "file_extension": ".py",
   "mimetype": "text/x-python",
   "name": "python",
   "nbconvert_exporter": "python",
   "pygments_lexer": "ipython3",
   "version": "3.9.2"
  }
 },
 "nbformat": 4,
 "nbformat_minor": 5
}
