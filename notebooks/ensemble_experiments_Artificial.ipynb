{
 "cells": [
  {
   "cell_type": "code",
   "execution_count": 22,
   "metadata": {},
   "outputs": [
    {
     "name": "stdout",
     "output_type": "stream",
     "text": [
      "The autoreload extension is already loaded. To reload it, use:\n",
      "  %reload_ext autoreload\n"
     ]
    }
   ],
   "source": [
    "%load_ext autoreload\n",
    "%autoreload 2\n",
    "import sys\n",
    "import glob\n",
    "import json\n",
    "\n",
    "import dgl\n",
    "import matplotlib.pyplot as plt\n",
    "import networkx as nx\n",
    "import numpy as np\n",
    "import pandas as pd\n",
    "from IPython.display import Markdown, display\n",
    "from karateclub.graph_embedding.graph2vec import Graph2Vec\n",
    "from sklearn.linear_model import LogisticRegression\n",
    "from sklearn.model_selection import LeaveOneOut\n",
    "from tqdm.notebook import tqdm\n",
    "\n",
    "sys.path.append(\"../\")\n",
    "from src.graph2vec import Ensemble_G2V, ExtendedGraph2Vec\n",
    "from src.utils import *\n",
    "\n",
    "plt.rcParams[\"figure.figsize\"] = (16, 40)"
   ]
  },
  {
   "attachments": {},
   "cell_type": "markdown",
   "metadata": {},
   "source": [
    "### Partition graphs"
   ]
  },
  {
   "cell_type": "code",
   "execution_count": 23,
   "metadata": {},
   "outputs": [
    {
     "data": {
      "application/vnd.jupyter.widget-view+json": {
       "model_id": "a3d6427a8d814c62959ac99abe3e250d",
       "version_major": 2,
       "version_minor": 0
      },
      "text/plain": [
       "  0%|          | 0/900 [00:00<?, ?it/s]"
      ]
     },
     "metadata": {},
     "output_type": "display_data"
    }
   ],
   "source": [
    "graphs, labels = load_artificial(\"../datasets/partition_graphs/\")\n",
    "\n",
    "order_dict = np.load(\"../datasets/partition_graphs/orderings.npy\", allow_pickle=True)[\n",
    "    ()\n",
    "]"
   ]
  },
  {
   "attachments": {},
   "cell_type": "markdown",
   "metadata": {},
   "source": [
    "## Parameters section"
   ]
  },
  {
   "cell_type": "code",
   "execution_count": 24,
   "metadata": {},
   "outputs": [],
   "source": [
    "subset_card = len(graphs)  # number of graphs\n",
    "\n",
    "emb_size = 16\n",
    "\n",
    "cross_val_k = LeaveOneOut()\n",
    "# number of folds to perform in cross-validation (could be int or LeaveOneOut())"
   ]
  },
  {
   "cell_type": "code",
   "execution_count": 25,
   "metadata": {},
   "outputs": [],
   "source": [
    "tested_range = np.linspace(0, 1, 11)\n",
    "\n",
    "WEIGHTING_FUNCTIONS = (\n",
    "    {f\"w_mean_{a:.2f}\": (\"w_mean\", [a]) for a in tested_range}\n",
    "    | {f\"concat\": (\"concatenate\", [])}\n",
    "    | {f\"p_proj_{a}\": (\"partial_projection\", [0, a]) for a in (True, False)}\n",
    "    | {f\"w_proj_{a:.2f}\": (\"w_projection\", [a]) for a in tested_range}\n",
    ")"
   ]
  },
  {
   "attachments": {},
   "cell_type": "markdown",
   "metadata": {},
   "source": [
    "### Execution section"
   ]
  },
  {
   "cell_type": "code",
   "execution_count": 26,
   "metadata": {},
   "outputs": [],
   "source": [
    "graphs_subset = graphs[:subset_card]\n",
    "\n",
    "base_model = Graph2Vec(dimensions=emb_size)\n",
    "without = ExtendedGraph2Vec(dimensions=emb_size)\n",
    "with_dm = ExtendedGraph2Vec(use_pv_dm=True, dimensions=emb_size)\n",
    "ens_model = Ensemble_G2V(without, with_dm)"
   ]
  },
  {
   "attachments": {},
   "cell_type": "markdown",
   "metadata": {},
   "source": [
    "### F1 score"
   ]
  },
  {
   "cell_type": "code",
   "execution_count": 27,
   "metadata": {},
   "outputs": [
    {
     "data": {
      "application/vnd.jupyter.widget-view+json": {
       "model_id": "8451438b865c4ddeb1379e8055f1f9a6",
       "version_major": 2,
       "version_minor": 0
      },
      "text/plain": [
       "  0%|          | 0/3 [00:00<?, ?it/s]"
      ]
     },
     "metadata": {},
     "output_type": "display_data"
    }
   ],
   "source": [
    "for measure, order in tqdm(order_dict.items()):\n",
    "    base_model.fit(graphs_subset)\n",
    "    res = {}\n",
    "    ens_model.fit(graphs_subset, orderings=order)\n",
    "    res[\"baseline\"] = cross_validate(\n",
    "        base_model.get_embedding(),\n",
    "        labels,\n",
    "        LogisticRegression(max_iter=1000),\n",
    "        cv=cross_val_k,\n",
    "        scoring=\"f1_macro\",\n",
    "    )\n",
    "    for name, (func, args) in tqdm(WEIGHTING_FUNCTIONS.items(), leave=False):\n",
    "        ens_model.set_weighting_function(func, *args)\n",
    "        res[name] = cross_validate(\n",
    "            ens_model.get_embedding(),\n",
    "            labels,\n",
    "            LogisticRegression(max_iter=1000),\n",
    "            cv=cross_val_k,\n",
    "            scoring=\"f1_macro\",\n",
    "        )\n",
    "    n_items = len(res)\n",
    "    plt.title(measure)\n",
    "    plt.boxplot(\n",
    "        sorted(res.values(), key=lambda x: x.mean()),\n",
    "        positions=range(n_items),\n",
    "        vert=False,\n",
    "        showmeans=True,\n",
    "        meanline=True,\n",
    "    )\n",
    "    plt.yticks(range(n_items), labels=sorted(res.keys(), key=lambda x: res[x].mean()))\n",
    "    plt.show()"
   ]
  },
  {
   "attachments": {},
   "cell_type": "markdown",
   "metadata": {},
   "source": [
    "### Accuracy"
   ]
  },
  {
   "cell_type": "code",
   "execution_count": null,
   "metadata": {},
   "outputs": [],
   "source": [
    "for measure, order in tqdm(order_dict.items()):\n",
    "    base_model.fit(graphs_subset)\n",
    "    res = {}\n",
    "    ens_model.fit(graphs_subset, orderings=order)\n",
    "    res[\"baseline\"] = cross_validate(\n",
    "        base_model.get_embedding(),\n",
    "        labels,\n",
    "        LogisticRegression(max_iter=1000),\n",
    "        cv=cross_val_k,\n",
    "    )\n",
    "    for name, (func, args) in tqdm(WEIGHTING_FUNCTIONS.items(), leave=False):\n",
    "        ens_model.set_weighting_function(func, *args)\n",
    "        res[name] = cross_validate(\n",
    "            ens_model.get_embedding(),\n",
    "            labels,\n",
    "            LogisticRegression(max_iter=1000),\n",
    "            cv=cross_val_k,\n",
    "        )\n",
    "    n_items = len(res)\n",
    "    plt.title(measure)\n",
    "    plt.boxplot(\n",
    "        sorted(res.values(), key=lambda x: x.mean()),\n",
    "        positions=range(n_items),\n",
    "        vert=False,\n",
    "        showmeans=True,\n",
    "        meanline=True,\n",
    "    )\n",
    "    plt.yticks(range(n_items), labels=sorted(res.keys(), key=lambda x: res[x].mean()))\n",
    "    plt.show()"
   ]
  },
  {
   "attachments": {},
   "cell_type": "markdown",
   "metadata": {},
   "source": [
    "## 2.Regular graphs"
   ]
  },
  {
   "attachments": {},
   "cell_type": "markdown",
   "metadata": {},
   "source": [
    "### Parameters section"
   ]
  },
  {
   "cell_type": "code",
   "execution_count": null,
   "metadata": {},
   "outputs": [],
   "source": [
    "graphs, labels = load_artificial(\"../datasets/regular_graphs/\")\n",
    "\n",
    "order_dict = np.load(\"../datasets/regular_graphs/orderings.npy\", allow_pickle=True)[()]"
   ]
  },
  {
   "cell_type": "code",
   "execution_count": null,
   "metadata": {},
   "outputs": [],
   "source": [
    "subset_card = len(graphs)  # number of graphs\n",
    "\n",
    "emb_size = 16\n",
    "\n",
    "cross_val_k = LeaveOneOut()\n",
    "# number of folds to perform in cross-validation (could be int or LeaveOneOut())"
   ]
  },
  {
   "cell_type": "code",
   "execution_count": null,
   "metadata": {},
   "outputs": [],
   "source": [
    "tested_range = np.linspace(0, 1, 11)\n",
    "\n",
    "WEIGHTING_FUNCTIONS = (\n",
    "    {f\"w_mean_{a:.2f}\": (\"w_mean\", [a]) for a in tested_range}\n",
    "    | {f\"concat\": (\"concatenate\", [])}\n",
    "    | {f\"p_proj_{a}\": (\"partial_projection\", [0, a]) for a in (True, False)}\n",
    "    | {f\"w_proj_{a:.2f}\": (\"w_projection\", [a]) for a in tested_range}\n",
    ")"
   ]
  },
  {
   "attachments": {},
   "cell_type": "markdown",
   "metadata": {},
   "source": [
    "### Execution section"
   ]
  },
  {
   "cell_type": "code",
   "execution_count": null,
   "metadata": {},
   "outputs": [],
   "source": [
    "graphs_subset = graphs[:subset_card]\n",
    "\n",
    "base_model = Graph2Vec(dimensions=emb_size)\n",
    "without = ExtendedGraph2Vec(dimensions=emb_size)\n",
    "with_dm = ExtendedGraph2Vec(dimensions=emb_size)\n",
    "ens_model = Ensemble_G2V(without, with_dm)"
   ]
  },
  {
   "cell_type": "code",
   "execution_count": null,
   "metadata": {},
   "outputs": [],
   "source": [
    "for measure, order in tqdm(order_dict.items()):\n",
    "    base_model.fit(graphs_subset)\n",
    "    res = {}\n",
    "    ens_model.fit(graphs_subset, orderings=order)\n",
    "    res[\"baseline\"] = cross_validate(\n",
    "        base_model.get_embedding(),\n",
    "        labels,\n",
    "        LogisticRegression(max_iter=1000),\n",
    "        cv=cross_val_k,\n",
    "        scoring=\"f1_macro\",\n",
    "    )\n",
    "    for name, (func, args) in tqdm(WEIGHTING_FUNCTIONS.items(), leave=False):\n",
    "        ens_model.set_weighting_function(func, *args)\n",
    "        res[name] = cross_validate(\n",
    "            ens_model.get_embedding(),\n",
    "            labels,\n",
    "            LogisticRegression(max_iter=1000),\n",
    "            cv=cross_val_k,\n",
    "            scoring=\"f1_macro\",\n",
    "        )\n",
    "    n_items = len(res)\n",
    "    plt.title(measure)\n",
    "    plt.boxplot(\n",
    "        sorted(res.values(), key=lambda x: x.mean()),\n",
    "        positions=range(n_items),\n",
    "        vert=False,\n",
    "        showmeans=True,\n",
    "        meanline=True,\n",
    "    )\n",
    "    plt.yticks(range(n_items), labels=sorted(res.keys(), key=lambda x: res[x].mean()))\n",
    "    plt.show()"
   ]
  },
  {
   "cell_type": "code",
   "execution_count": null,
   "metadata": {},
   "outputs": [],
   "source": [
    "for measure, order in tqdm(order_dict.items()):\n",
    "    base_model.fit(graphs_subset)\n",
    "    res = {}\n",
    "    ens_model.fit(graphs_subset, orderings=order)\n",
    "    res[\"baseline\"] = cross_validate(\n",
    "        base_model.get_embedding(),\n",
    "        labels,\n",
    "        LogisticRegression(max_iter=1000),\n",
    "        cv=cross_val_k,\n",
    "    )\n",
    "    for name, (func, args) in tqdm(WEIGHTING_FUNCTIONS.items(), leave=False):\n",
    "        ens_model.set_weighting_function(func, *args)\n",
    "        res[name] = cross_validate(\n",
    "            ens_model.get_embedding(),\n",
    "            labels,\n",
    "            LogisticRegression(max_iter=1000),\n",
    "            cv=cross_val_k,\n",
    "        )\n",
    "    n_items = len(res)\n",
    "    plt.title(measure)\n",
    "    plt.boxplot(\n",
    "        sorted(res.values(), key=lambda x: x.mean()),\n",
    "        positions=range(n_items),\n",
    "        vert=False,\n",
    "        showmeans=True,\n",
    "        meanline=True,\n",
    "    )\n",
    "    plt.yticks(range(n_items), labels=sorted(res.keys(), key=lambda x: res[x].mean()))\n",
    "    plt.show()"
   ]
  }
 ],
 "metadata": {
  "kernelspec": {
   "display_name": "MLG",
   "language": "python",
   "name": "python3"
  },
  "language_info": {
   "codemirror_mode": {
    "name": "ipython",
    "version": 3
   },
   "file_extension": ".py",
   "mimetype": "text/x-python",
   "name": "python",
   "nbconvert_exporter": "python",
   "pygments_lexer": "ipython3",
   "version": "3.9.2"
  },
  "orig_nbformat": 4
 },
 "nbformat": 4,
 "nbformat_minor": 2
}
