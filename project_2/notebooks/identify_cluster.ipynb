{
 "cells": [
  {
   "cell_type": "code",
   "execution_count": 1,
   "id": "26769ee7-de43-4c9e-9336-740935858ea8",
   "metadata": {},
   "outputs": [],
   "source": [
    "import pandas as pd\n",
    "\n",
    "from cluster import cluster"
   ]
  },
  {
   "cell_type": "code",
   "execution_count": 2,
   "id": "c7b9e48c-b417-49f4-805d-07c24def872b",
   "metadata": {},
   "outputs": [],
   "source": [
    "def identify_clusters(X_data_df, threshold, method=\"pearson\"):\n",
    "    cor = X_data_df.corr(method=method)\n",
    "\n",
    "    clusters = []\n",
    "    for j, col in enumerate(cor.columns):\n",
    "        for i, row in enumerate(cor.columns[0:j]):\n",
    "            if abs(cor.iloc[i, j]) > threshold:\n",
    "                current_pair = (col, row, cor.iloc[i, j])\n",
    "                current_pair_added = False\n",
    "                for _c in clusters:\n",
    "                    if _c.can_accept(current_pair):\n",
    "                        _c.update_with(current_pair)\n",
    "                        current_pair_added = True\n",
    "                if current_pair_added == False:\n",
    "                    clusters.append(cluster(pairs=[current_pair]))\n",
    "    final_clusters = []\n",
    "    for _cluster in clusters:\n",
    "        added_to_final = False\n",
    "        for final_c in final_clusters:\n",
    "            if _cluster.nodes.intersection(final_c.nodes) != set():\n",
    "                final_c.merge_with_cluster(_cluster)\n",
    "                added_to_final = True\n",
    "        if added_to_final == False:\n",
    "            final_clusters.append(_cluster)\n",
    "    for i, _cluster in enumerate(final_clusters):\n",
    "        _cluster.name = f\"cluster_{i}\"\n",
    "    return final_clusters"
   ]
  },
  {
   "cell_type": "markdown",
   "id": "f18396d9-4bb4-4a54-9fc9-e9e790f77912",
   "metadata": {},
   "source": [
    "## Parameters"
   ]
  },
  {
   "cell_type": "code",
   "execution_count": 3,
   "id": "afbaa2bc-5374-4980-a431-83bd7b0d6edf",
   "metadata": {},
   "outputs": [],
   "source": [
    "dpath = \"PCEC96_perc_diff_lag_1.csv\"\n",
    "target = \"PCEC96_perc_diff_lag_1\""
   ]
  },
  {
   "cell_type": "markdown",
   "id": "099476ee-9de4-4327-a9b3-f91a92600425",
   "metadata": {},
   "source": [
    "## Data"
   ]
  },
  {
   "cell_type": "code",
   "execution_count": 4,
   "id": "c0d2de4f-59e4-4979-ac12-c85956f04041",
   "metadata": {},
   "outputs": [],
   "source": [
    "data = pd.read_csv(dpath)\n",
    "data[\"reference_date\"] = pd.to_datetime(data[\"reference_date\"])\n",
    "data = data.set_index(\"reference_date\").sort_index()\n",
    "\n",
    "y_data = data[target]\n",
    "X_data = data.drop(columns=target)"
   ]
  },
  {
   "cell_type": "markdown",
   "id": "360153a4-cb79-4fd1-813b-b749e89f2cc1",
   "metadata": {},
   "source": [
    "## Execution section"
   ]
  },
  {
   "cell_type": "code",
   "execution_count": 5,
   "id": "e185f184-d9a8-4a10-b8a4-e966459cbcbd",
   "metadata": {},
   "outputs": [],
   "source": [
    "final_clusters = identify_clusters(X_data_df=X_data, threshold=0.7)"
   ]
  },
  {
   "cell_type": "code",
   "execution_count": 6,
   "id": "b25ea67f-db7c-4ef6-8bcf-3070109c32b9",
   "metadata": {},
   "outputs": [
    {
     "data": {
      "text/plain": [
       "17"
      ]
     },
     "execution_count": 6,
     "metadata": {},
     "output_type": "execute_result"
    }
   ],
   "source": [
    "len(final_clusters)"
   ]
  },
  {
   "cell_type": "code",
   "execution_count": 7,
   "id": "9ca3ad15",
   "metadata": {},
   "outputs": [
    {
     "name": "stdout",
     "output_type": "stream",
     "text": [
      "Name: cluster_2\n",
      "\n",
      "Nodes: {'M1REAL_diff_lag_3', 'LNS17100000', 'LNS17500000_perc_diff_lag_3', 'M1SL_diff_lag_3', 'LNS17100000_perc_diff_lag_12', 'M1SL_perc_diff_lag_3', 'LNS17100000_perc_diff_lag_3', 'M1NS_diff_lag_3', 'LNS17100000_diff_lag_3', 'M1REAL_perc_diff_lag_3', 'M1NS_perc_diff_lag_3'}\n",
      "\n",
      "Pairs: {('M1REAL_perc_diff_lag_3', 'LNS17100000_perc_diff_lag_3', 0.9607073865703695), ('M1SL_diff_lag_3', 'M1NS_perc_diff_lag_3', 0.988662563658455), ('M1REAL_diff_lag_3', 'LNS17500000_perc_diff_lag_3', 0.9241630321302535), ('M1REAL_diff_lag_3', 'M1NS_diff_lag_3', 0.9967204369984529), ('M1REAL_diff_lag_3', 'LNS17100000_perc_diff_lag_3', 0.9460008117186878), ('M1SL_diff_lag_3', 'M1NS_diff_lag_3', 0.9994591807453851), ('M1REAL_perc_diff_lag_3', 'M1NS_perc_diff_lag_3', 0.9992524872497489), ('M1SL_diff_lag_3', 'M1REAL_diff_lag_3', 0.9971017358440378), ('M1NS_perc_diff_lag_3', 'LNS17100000_diff_lag_3', 0.816275809476747), ('M1NS_perc_diff_lag_3', 'LNS17100000_perc_diff_lag_12', 0.8409484472633635), ('LNS17100000_perc_diff_lag_3', 'LNS17100000_diff_lag_3', 0.9097912459306474), ('M1SL_perc_diff_lag_3', 'LNS17100000', 0.8487218126313013), ('M1SL_perc_diff_lag_3', 'M1NS_diff_lag_3', 0.9896213392924512), ('M1NS_perc_diff_lag_3', 'LNS17100000_perc_diff_lag_3', 0.9596862077028883), ('M1SL_perc_diff_lag_3', 'LNS17500000_perc_diff_lag_3', 0.9485520203444585), ('M1REAL_perc_diff_lag_3', 'M1REAL_diff_lag_3', 0.9923943663825251), ('M1SL_perc_diff_lag_3', 'M1REAL_perc_diff_lag_3', 0.9996496746396509), ('M1REAL_diff_lag_3', 'LNS17100000', 0.8490860798335603), ('M1SL_diff_lag_3', 'LNS17100000_perc_diff_lag_3', 0.9387912994533606), ('M1SL_diff_lag_3', 'LNS17100000_diff_lag_3', 0.7727249002967521), ('M1SL_perc_diff_lag_3', 'LNS17100000_diff_lag_3', 0.8170092785429032), ('M1NS_perc_diff_lag_3', 'LNS17500000_perc_diff_lag_3', 0.949086731398329), ('M1SL_diff_lag_3', 'LNS17100000', 0.8469240691489073), ('LNS17500000_perc_diff_lag_3', 'LNS17100000_perc_diff_lag_12', 0.7957283589746335), ('LNS17500000_perc_diff_lag_3', 'LNS17100000_perc_diff_lag_3', 0.9326045911190236), ('M1NS_diff_lag_3', 'LNS17100000_perc_diff_lag_12', 0.8360977580742713), ('M1REAL_diff_lag_3', 'LNS17100000_diff_lag_3', 0.785734828243332), ('M1REAL_diff_lag_3', 'LNS17100000_perc_diff_lag_12', 0.8421157053015376), ('M1SL_diff_lag_3', 'M1REAL_perc_diff_lag_3', 0.9878281168309335), ('M1SL_perc_diff_lag_3', 'M1NS_perc_diff_lag_3', 0.9993461091403257), ('M1REAL_diff_lag_3', 'M1NS_perc_diff_lag_3', 0.9921601959818178), ('LNS17100000_perc_diff_lag_3', 'LNS17100000_perc_diff_lag_12', 0.78790696251368), ('M1SL_diff_lag_3', 'LNS17100000_perc_diff_lag_12', 0.8337847976685027), ('M1SL_perc_diff_lag_3', 'M1SL_diff_lag_3', 0.9900932143986351), ('M1REAL_perc_diff_lag_3', 'M1NS_diff_lag_3', 0.9874558307882583), ('LNS17500000_perc_diff_lag_3', 'LNS17100000', 0.7831909102995295), ('M1SL_perc_diff_lag_3', 'M1REAL_diff_lag_3', 0.9934290453396307), ('M1NS_perc_diff_lag_3', 'LNS17100000', 0.8491585877052865), ('M1REAL_perc_diff_lag_3', 'LNS17100000_diff_lag_3', 0.8182203956095154), ('LNS17500000_perc_diff_lag_3', 'LNS17100000_diff_lag_3', 0.8509065266178878), ('M1NS_diff_lag_3', 'LNS17100000_diff_lag_3', 0.7702050424565481), ('M1REAL_perc_diff_lag_3', 'LNS17100000_perc_diff_lag_12', 0.8417827511275207), ('M1SL_perc_diff_lag_3', 'LNS17100000_perc_diff_lag_3', 0.9612081449402511), ('LNS17100000_perc_diff_lag_3', 'LNS17100000', 0.8119104260872908), ('M1REAL_perc_diff_lag_3', 'LNS17500000_perc_diff_lag_3', 0.9515728432663942), ('M1SL_diff_lag_3', 'LNS17500000_perc_diff_lag_3', 0.9106331212981409), ('M1NS_diff_lag_3', 'LNS17100000', 0.8469419945001772), ('M1NS_perc_diff_lag_3', 'M1NS_diff_lag_3', 0.9889204340068753), ('M1SL_perc_diff_lag_3', 'LNS17100000_perc_diff_lag_12', 0.8396693867345585), ('M1REAL_perc_diff_lag_3', 'LNS17100000', 0.8491311305445999), ('M1NS_diff_lag_3', 'LNS17500000_perc_diff_lag_3', 0.9094678594708071), ('M1NS_diff_lag_3', 'LNS17100000_perc_diff_lag_3', 0.9371878498873762), ('LNS17100000_perc_diff_lag_12', 'LNS17100000', 0.9120909171868123)}\n",
      "\n"
     ]
    }
   ],
   "source": [
    "cluster_example = final_clusters[2]  \n",
    "\n",
    "# Each cluster has the following attributes: name, nodes and pairs (i.e. tuples of nodes with paiwise correlation)\n",
    "print(f\"Name: {cluster_example.name}\\n\")\n",
    "print(f\"Nodes: {cluster_example.nodes}\\n\")\n",
    "print(f\"Pairs: {cluster_example.pairs}\\n\")"
   ]
  },
  {
   "cell_type": "code",
   "execution_count": null,
   "id": "172abb70",
   "metadata": {},
   "outputs": [],
   "source": []
  }
 ],
 "metadata": {
  "kernelspec": {
   "display_name": "Python 3.9.12 ('base')",
   "language": "python",
   "name": "python3"
  },
  "language_info": {
   "codemirror_mode": {
    "name": "ipython",
    "version": 3
   },
   "file_extension": ".py",
   "mimetype": "text/x-python",
   "name": "python",
   "nbconvert_exporter": "python",
   "pygments_lexer": "ipython3",
   "version": "3.9.12"
  },
  "vscode": {
   "interpreter": {
    "hash": "441cb456e1732220675dc6d5678941496a6855a56bea0c4eb2e0c2c549c48708"
   }
  }
 },
 "nbformat": 4,
 "nbformat_minor": 5
}
