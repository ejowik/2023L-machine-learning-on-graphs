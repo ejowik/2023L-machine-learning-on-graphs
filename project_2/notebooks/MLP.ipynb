{
 "cells": [
  {
   "cell_type": "code",
   "execution_count": 1,
   "id": "db2a90d2",
   "metadata": {},
   "outputs": [
    {
     "name": "stdout",
     "output_type": "stream",
     "text": [
      "Epoch 1/10\n",
      "10/10 [==============================] - 10s 579ms/step - loss: 1.9138 - accuracy: 0.1900 - val_loss: 1.7253 - val_accuracy: 0.1674 - lr: 0.0010\n",
      "Epoch 2/10\n",
      "10/10 [==============================] - 3s 322ms/step - loss: 1.9204 - accuracy: 0.1300 - val_loss: 1.7139 - val_accuracy: 0.1720 - lr: 0.0010\n",
      "Epoch 3/10\n",
      "10/10 [==============================] - 3s 284ms/step - loss: 1.8085 - accuracy: 0.2000 - val_loss: 1.7033 - val_accuracy: 0.1769 - lr: 0.0010\n",
      "Epoch 4/10\n",
      "10/10 [==============================] - 3s 311ms/step - loss: 1.8742 - accuracy: 0.1900 - val_loss: 1.6928 - val_accuracy: 0.1810 - lr: 0.0010\n",
      "Epoch 4: early stopping\n"
     ]
    }
   ],
   "source": [
    "#!/usr/bin/env python2\n",
    "# -*- coding: utf-8 -*-\n",
    "\"\"\"\n",
    "Created on Fri Oct 28 21:46:23 2016\n",
    "\n",
    "@author: stephen\n",
    "\"\"\"\n",
    "\n",
    "from __future__ import print_function\n",
    "\n",
    "from tensorflow import keras\n",
    "from keras.callbacks import EarlyStopping\n",
    "\n",
    "import numpy as np\n",
    "import pandas as pd\n",
    "\n",
    "np.random.seed(813306)\n",
    "\n",
    "\n",
    "def readucr(filename):\n",
    "    data = np.loadtxt(filename)\n",
    "    Y = data[:, 0]\n",
    "    X = data[:, 1:]\n",
    "    return X, Y\n",
    "\n",
    "\n",
    "# epochs = 5000\n",
    "epochs = 10\n",
    "\n",
    "flist = [\"../../datasets/MixedShapesSmallTrain/MixedShapesSmallTrain\"]\n",
    "for each in flist:\n",
    "    fname = each\n",
    "    x_train, y_train = readucr(fname + \"_TRAIN.txt\")\n",
    "    x_test, y_test = readucr(fname + \"_TEST.txt\")\n",
    "    nb_classes = len(np.unique(y_test))\n",
    "    y_train = (\n",
    "        (y_train - y_train.min()) / (y_train.max() - y_train.min()) * (nb_classes - 1)\n",
    "    )\n",
    "    y_test = (y_test - y_test.min()) / (y_test.max() - y_test.min()) * (nb_classes - 1)\n",
    "    batch_size = int(min(x_train.shape[0] / 10, 16))\n",
    "\n",
    "    Y_train = keras.utils.to_categorical(y_train, nb_classes)\n",
    "    Y_test = keras.utils.to_categorical(y_test, nb_classes)\n",
    "\n",
    "    x_train_mean = x_train.mean()\n",
    "    x_train_std = x_train.std()\n",
    "    x_train = (x_train - x_train_mean) / (x_train_std)\n",
    "\n",
    "    # x_test_min = np.min(x_test, axis = 1, keepdims=1)\n",
    "    # x_test_max = np.max(x_test, axis = 1, keepdims=1)\n",
    "    x_test = (x_test - x_train_mean) / (x_train_std)\n",
    "\n",
    "    # x_train = x_train.reshape(x_train.shape + (1,))\n",
    "    # x_test = x_test.reshape(x_test.shape + (1,))\n",
    "\n",
    "    x = keras.layers.Input(x_train.shape[1:])\n",
    "    y = keras.layers.Dropout(0.1)(x)\n",
    "    y = keras.layers.Dense(500, activation=\"relu\")(y)\n",
    "    y = keras.layers.Dropout(0.2)(y)\n",
    "    y = keras.layers.Dense(500, activation=\"relu\")(y)\n",
    "    y = keras.layers.Dropout(0.2)(y)\n",
    "    y = keras.layers.Dense(500, activation=\"relu\")(y)\n",
    "    y = keras.layers.Dropout(0.3)(y)\n",
    "    out = keras.layers.Dense(nb_classes, activation=\"softmax\")(y)\n",
    "\n",
    "    model = keras.models.Model(inputs=x, outputs=out)\n",
    "\n",
    "    optimizer = keras.optimizers.Adadelta()\n",
    "    model.compile(\n",
    "        loss=\"categorical_crossentropy\", optimizer=optimizer, metrics=[\"accuracy\"]\n",
    "    )\n",
    "\n",
    "    reduce_lr = keras.callbacks.ReduceLROnPlateau(\n",
    "        monitor=\"loss\", factor=0.5, patience=200, min_lr=0.1\n",
    "    )\n",
    "    \n",
    "    es = EarlyStopping(monitor=\"val_accuracy\", verbose=1, min_delta=0.05, patience=3)\n",
    "\n",
    "    hist = model.fit(\n",
    "        x_train,\n",
    "        Y_train,\n",
    "        batch_size=batch_size,\n",
    "        epochs=epochs,\n",
    "        verbose=1,\n",
    "        validation_data=(x_test, Y_test),\n",
<<<<<<< HEAD
    "        callbacks=[reduce_lr, es],\n",
    "    )\n"
=======
    "        callbacks=[reduce_lr],\n",
    "    )"
>>>>>>> 20b92276e56e04c2392e4e2f0bcea2a338200021
   ]
  },
  {
   "cell_type": "code",
   "execution_count": 2,
   "id": "3ece4189",
   "metadata": {},
   "outputs": [
    {
     "name": "stdout",
     "output_type": "stream",
     "text": [
      "4/4 [==============================] - 0s 11ms/step - loss: 1.7024 - accuracy: 0.1600\n",
      "76/76 [==============================] - 2s 18ms/step - loss: 1.6928 - accuracy: 0.1810\n"
     ]
    }
   ],
   "source": [
    "# evaluate the model\n",
    "_, train_acc = model.evaluate(x_train, Y_train)\n",
    "_, test_acc = model.evaluate(x_test, Y_test)"
   ]
  },
  {
   "cell_type": "code",
   "execution_count": null,
   "id": "199c136d",
   "metadata": {},
   "outputs": [],
   "source": []
  }
 ],
 "metadata": {
  "kernelspec": {
   "display_name": "Python 3 (ipykernel)",
   "language": "python",
   "name": "python3"
  },
  "language_info": {
   "codemirror_mode": {
    "name": "ipython",
    "version": 3
   },
   "file_extension": ".py",
   "mimetype": "text/x-python",
   "name": "python",
   "nbconvert_exporter": "python",
   "pygments_lexer": "ipython3",
   "version": "3.9.7"
  }
 },
 "nbformat": 4,
 "nbformat_minor": 5
}
