{
 "cells": [
  {
   "cell_type": "code",
   "execution_count": null,
   "metadata": {},
   "outputs": [],
   "source": [
    "import sys\n",
    "import time\n",
    "from math import ceil\n",
    "\n",
    "import torch\n",
    "import torch.nn.functional as F\n",
    "from torch.nn import Linear\n",
    "from torch_geometric.loader import DataLoader\n",
    "from torch_geometric.nn import DenseGraphConv, GCNConv, dense_mincut_pool\n",
    "from torch_geometric.utils import to_dense_adj, to_dense_batch\n",
    "\n",
    "sys.path.append(\"../\")\n",
    "import warnings\n",
    "\n",
    "import numpy as np\n",
    "import torch\n",
    "import torch.nn.functional as F\n",
    "import utils\n",
    "from sklearn.metrics import accuracy_score, f1_score\n",
    "from torch_geometric.loader import DataLoader\n",
    "\n",
    "warnings.filterwarnings(\"ignore\")"
   ]
  },
  {
   "cell_type": "code",
   "execution_count": null,
   "metadata": {},
   "outputs": [],
   "source": [
    "start = time.time()\n",
    "\n",
    "train_dataset = utils.GraphDataset(\"../data/\", \"GunPoint\", True, quantile=False)\n",
    "train_loader = DataLoader(train_dataset, batch_size=50, shuffle=True)\n",
    "\n",
    "test_dataset = utils.GraphDataset(\"../data/\", \"GunPoint\", False, quantile=False)\n",
    "test_loader = DataLoader(test_dataset, batch_size=len(test_dataset))\n",
    "for elem in train_dataset:\n",
    "    break\n",
    "elem"
   ]
  },
  {
   "cell_type": "code",
   "execution_count": null,
   "metadata": {},
   "outputs": [],
   "source": [
    "class Net(torch.nn.Module):\n",
    "    def __init__(self, in_channels, out_channels, hidden_channels=32):\n",
    "        super().__init__()\n",
    "\n",
    "        self.conv1 = GCNConv(in_channels, hidden_channels)\n",
    "        num_nodes = 100\n",
    "        self.pool1 = Linear(hidden_channels, num_nodes)\n",
    "\n",
    "        self.conv2 = DenseGraphConv(hidden_channels, hidden_channels)\n",
    "        num_nodes = ceil(2 / 3 * num_nodes)\n",
    "        self.pool2 = Linear(hidden_channels, num_nodes)\n",
    "\n",
    "        self.conv3 = DenseGraphConv(hidden_channels, hidden_channels)\n",
    "\n",
    "        self.lin1 = Linear(hidden_channels, hidden_channels)\n",
    "        self.lin2 = Linear(hidden_channels, out_channels)\n",
    "\n",
    "    def forward(self, data):\n",
    "        x, edge_index, batch, edge_weight = (\n",
    "            data.x,\n",
    "            data.edge_index,\n",
    "            data.batch,\n",
    "            data.edge_weight,\n",
    "        )\n",
    "        x = self.conv1(x, edge_index, edge_weight).relu()\n",
    "\n",
    "        x, mask = to_dense_batch(x, batch)\n",
    "        adj = to_dense_adj(edge_index, batch)\n",
    "        s = self.pool1(x)\n",
    "        x, adj, mc1, o1 = dense_mincut_pool(x, adj, s, mask)\n",
    "\n",
    "        x = self.conv2(x, adj).relu()\n",
    "        s = self.pool2(x)\n",
    "        x, adj, mc2, o2 = dense_mincut_pool(x, adj, s)\n",
    "\n",
    "        x = self.conv3(x, adj).relu()\n",
    "\n",
    "        x = x.mean(dim=1)\n",
    "        x = self.lin1(x).relu()\n",
    "        x = self.lin2(x)\n",
    "        return F.log_softmax(x, dim=-1), mc1 + mc2, o1 + o2"
   ]
  },
  {
   "cell_type": "code",
   "execution_count": null,
   "metadata": {},
   "outputs": [],
   "source": [
    "device = torch.device(\"cuda\" if torch.cuda.is_available() else \"cpu\")\n",
    "model = Net(3, 2).to(device)\n",
    "optimizer = torch.optim.Adam(model.parameters(), lr=5e-4)"
   ]
  },
  {
   "cell_type": "code",
   "execution_count": null,
   "metadata": {},
   "outputs": [],
   "source": [
    "def train():\n",
    "    model.train()\n",
    "\n",
    "    total_loss = 0\n",
    "    for data in train_loader:\n",
    "        optimizer.zero_grad()\n",
    "        y_out, mc_loss, o_loss = model(data)\n",
    "        loss = F.nll_loss(y_out, data.y) + mc_loss + o_loss\n",
    "        loss.backward()\n",
    "        optimizer.step()\n",
    "        total_loss += float(loss) * data.num_graphs\n",
    "    return total_loss / len(train_loader.dataset)\n",
    "\n",
    "\n",
    "@torch.no_grad()\n",
    "def test(loader):\n",
    "    model.eval()\n",
    "    y_pred = []\n",
    "    y_true = []\n",
    "    loss = 0\n",
    "    for data in loader:\n",
    "        y_out, mc_loss, o_loss = model(data)\n",
    "        y_pred.append(y_out.argmax(dim=-1))\n",
    "        y_true.append(data.y)\n",
    "        loss += float(F.nll_loss(y_out, data.y) * data.num_graphs + mc_loss + o_loss)\n",
    "    y_pred = np.concatenate(y_pred)\n",
    "    y_true = np.concatenate(y_true)\n",
    "    return (\n",
    "        f1_score(y_true=y_true, y_pred=y_pred, average=\"macro\"),\n",
    "        accuracy_score(y_true=y_true, y_pred=y_pred),\n",
    "        loss / len(loader.dataset),\n",
    "    )"
   ]
  },
  {
   "cell_type": "code",
   "execution_count": null,
   "metadata": {},
   "outputs": [],
   "source": [
    "best_macro_f1 = -1\n",
    "train_losses = []\n",
    "val_losses = []\n",
    "train_accs = []\n",
    "val_accs = []"
   ]
  },
  {
   "cell_type": "code",
   "execution_count": null,
   "metadata": {},
   "outputs": [],
   "source": [
    "for epoch in range(120):\n",
    "    train()\n",
    "    train_macro_f1, train_acc, train_loss = test(train_loader)\n",
    "    test_macro_f1, test_acc, test_loss = test(test_loader)\n",
    "    print(\n",
    "        f\"Epoch: {epoch:03d}, Train_Loss: {train_loss:02.4f},Test_Loss: {test_loss:02.4f},Train_f1: {train_macro_f1:01.4f},Test_f1: {test_macro_f1:01.4f},Train_acc: {train_acc:01.4f},Test_acc: {test_acc:01.4f}\"\n",
    "    )\n",
    "    if test_macro_f1 > best_macro_f1:\n",
    "        best_accuracy = test_macro_f1\n",
    "        best_epoch = epoch\n",
    "        torch.save(model.state_dict(), \"../data/visibility-no-feat.pth\")\n",
    "    train_losses.append(train_loss)\n",
    "    val_losses.append(test_loss)\n",
    "    train_accs.append(train_acc)\n",
    "    val_accs.append(test_acc)\n",
    "elapsed_time = time.time() - start"
   ]
  },
  {
   "cell_type": "code",
   "execution_count": null,
   "metadata": {},
   "outputs": [],
   "source": [
    "utils.save_model_stats(\n",
    "    \"visibility-no-feat\", train_losses, val_losses, train_accs, val_accs, elapsed_time\n",
    ")"
   ]
  }
 ],
 "metadata": {
  "kernelspec": {
   "display_name": "MLG",
   "language": "python",
   "name": "python3"
  },
  "language_info": {
   "codemirror_mode": {
    "name": "ipython",
    "version": 3
   },
   "file_extension": ".py",
   "mimetype": "text/x-python",
   "name": "python",
   "nbconvert_exporter": "python",
   "pygments_lexer": "ipython3",
   "version": "3.9.2"
  },
  "orig_nbformat": 4
 },
 "nbformat": 4,
 "nbformat_minor": 2
}
